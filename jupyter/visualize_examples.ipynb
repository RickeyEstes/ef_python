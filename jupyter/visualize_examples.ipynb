{
 "cells": [
  {
   "cell_type": "code",
   "execution_count": null,
   "metadata": {},
   "outputs": [],
   "source": [
    "%matplotlib inline\n",
    "from glob import glob\n",
    "import sys\n",
    "sys.path.append('..')\n",
    "from ef.config.visualizer import Visualizer3d\n",
    "from ef.config.efconf import EfConf\n",
    "example_configs = glob('../examples/*/*.conf')\n",
    "for fname in example_configs:\n",
    "    print(fname)\n",
    "    EfConf.from_fname(fname).visualize_all(Visualizer3d())"
   ]
  }
 ],
 "metadata": {
  "kernelspec": {
   "display_name": "Python 3",
   "language": "python",
   "name": "python3"
  },
  "language_info": {
   "codemirror_mode": {
    "name": "ipython",
    "version": 3
   },
   "file_extension": ".py",
   "mimetype": "text/x-python",
   "name": "python",
   "nbconvert_exporter": "python",
   "pygments_lexer": "ipython3",
   "version": "3.6.5"
  }
 },
 "nbformat": 4,
 "nbformat_minor": 1
}
