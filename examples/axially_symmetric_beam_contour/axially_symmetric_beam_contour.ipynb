{
 "cells": [
  {
   "cell_type": "markdown",
   "metadata": {
    "collapsed": true
   },
   "source": [
    "In this example, an equation for a contour of an axially symmetric\n",
    "beam propagating in free space is checked."
   ]
  },
  {
   "cell_type": "markdown",
   "metadata": {},
   "source": [
    "Suppose there is an axially symmetric charged particles beam propagating\n",
    "in free space.\n",
    "Under certain set of approximations, trajectory of a particle on the edge \n",
    "of the beam can be described by the following expressions:\n",
    "\n",
    "<!-- ![](http://mathurl.com/y7dt7wdq.png) -->\n",
    "\\begin{align}\n",
    "  & r = r(0) e^{u^2}\n",
    "  \\\\\n",
    "  & z = \n",
    "  \\left( \\dfrac{m v^3}{q I} \\right)^{1/2}\n",
    "  r(0)\n",
    "  \\int_{0}^{u} e^{u^2} du\n",
    "\\end{align}\n",
    "\n",
    "\n",
    "where $u$ is a parameter, $v$ is speed of particles along the $z$ axis,\n",
    "$r(0)$ is initial radius and $I$ is full current of the beam.\n",
    "Derivation of these relations can be found in supplementary notebook [link]."
   ]
  },
  {
   "cell_type": "markdown",
   "metadata": {},
   "source": [
    "These equations define a contour of the beam $r(z)$. It is possible to perform \n",
    "a numerical simulation of a beam propagating in free space and \n",
    "plot particles coordinates on the X-Z or Y-Z plane. \n",
    "This will allow to compare the numerical profile\n",
    "with the analytical expression. "
   ]
  },
  {
   "cell_type": "markdown",
   "metadata": {},
   "source": [
    "The beam will become $e = 2.71$ times wider than the initial at $u = 1$.\n",
    "For this value of the parameter, the integral in the $z$ equation \n",
    "[approximately equals to](https://www.wolframalpha.com/input/?i=integrate%28+e^u^2,+u,+0,+1+%29) $1.46$. \n",
    "Since the speed in the $z$-direction is assumed constant, it is possible to estimate the time needed for  \n",
    "particles to pass this distance as\n",
    "\n",
    "<!-- ![](http://mathurl.com/yaaqzzhs.png) -->\n",
    "\\begin{align}\n",
    "  t \\approx \n",
    "  1.5 \\left( \\dfrac{m v}{q I} \\right)^{1/2}\n",
    "  r(0)\n",
    "\\end{align}"
   ]
  },
  {
   "cell_type": "markdown",
   "metadata": {},
   "source": [
    "Let's substitute some numerical values (see the cell below). Suppose there is an electron beam ($q = 4.8 \\cdot 10^{-10} ~ [\\mbox{cgs}], ~ m = 9.1 \\cdot 10^{-28} ~ [\\mbox{g}]$) with full current $I = 0.1 ~ [\\mbox{A}] = 2.998 \\cdot 10^{8} ~ [\\mbox{cgs}]$ and initial radius $r(0) = 0.5 ~ [\\mbox{cm}]$. \n",
    "Energy of it's particles equals to 1 keV, so that speed is $v = 1.808 \\cdot 10^{9} ~ [\\mbox{cm/s}]$.\n",
    "For this beam to get $2.71$ times wider (from $0.5 ~ [\\mbox{cm}]$ to $1.36 ~ [\\mbox{cm}]$), it takes $t = 2.63 \\cdot 10^{-9} ~ [\\mbox{s}]$ seconds.\n",
    "This happens over a distance $z = 4.632 ~ [\\mbox{cm}]$."
   ]
  },
  {
   "cell_type": "code",
   "execution_count": 1,
   "metadata": {},
   "outputs": [
    {
     "name": "stdout",
     "output_type": "stream",
     "text": [
      "q = 4.800e-10 [cgs]\n",
      "m = 9.800e-28 [g]\n",
      "beam_radius = 5.000e-01 [cm]\n",
      "I = 1.000e-01 [A] = 2.998e+08 [cgs]\n",
      "E = 1.000e+03 [eV] = 1.602e-09 [erg]\n",
      "v = 1.808e+09 [cm/s]\n",
      "r0_e_times_wider = 1.359e+00 [cm]\n",
      "t_e_times_wider = 2.632e-09 [s]\n",
      "z_e_times_wider = 4.632e+00 [cm]\n"
     ]
    }
   ],
   "source": [
    "from math import *\n",
    "\n",
    "m = 9.8e-28\n",
    "q = 4.8e-10\n",
    "print( \"q = {:.3e} [cgs]\".format( q ) )\n",
    "print( \"m = {:.3e} [g]\".format( m ) )\n",
    "\n",
    "r_0 = 0.5\n",
    "print( \"beam_radius = {:.3e} [cm]\".format( r_0 ) )\n",
    "\n",
    "ampere_to_cgs = 2997924536.8431\n",
    "I = 0.1 * ampere_to_cgs\n",
    "print( \"I = {:.3e} [A] = {:.3e} [cgs]\".format( I / ampere_to_cgs, I ) )\n",
    "\n",
    "ev_to_cgs = 1.60218e-12\n",
    "E = 1000 * ev_to_cgs\n",
    "v = sqrt( 2 * E / m )\n",
    "print( \"E = {:.3e} [eV] = {:.3e} [erg]\".format( E / ev_to_cgs, E ) )\n",
    "print( \"v = {:.3e} [cm/s]\".format( v ) )\n",
    "\n",
    "r0_e_times_wider = e * r_0\n",
    "z_e_times_wider = 1.46 * sqrt( m * v**3 / q / I ) * r_0\n",
    "t_e_times_wider = 1.5 * sqrt( m * v / q / I ) * r_0\n",
    "print( \"r0_e_times_wider = {:.3e} [cm]\".format( r0_e_times_wider ) )\n",
    "print( \"t_e_times_wider = {:.3e} [s]\".format( t_e_times_wider ) )\n",
    "print( \"z_e_times_wider = {:.3e} [cm]\".format( z_e_times_wider ) )"
   ]
  },
  {
   "cell_type": "markdown",
   "metadata": {},
   "source": [
    "These estimates can be used as a basis for config file parameters. "
   ]
  },
  {
   "cell_type": "markdown",
   "metadata": {},
   "source": [
    "Full simulation time is set to 3.0e-9 [s]. There are 100 time steps, with each 10th step written to file."
   ]
  },
  {
   "cell_type": "code",
   "execution_count": 2,
   "metadata": {},
   "outputs": [
    {
     "name": "stdout",
     "output_type": "stream",
     "text": [
      "### TimeGridConf:\n",
      "total = 3e-09\n",
      "save_step = 3e-10\n",
      "step = 3e-11\n"
     ]
    }
   ],
   "source": [
    "from ef.config.components import *\n",
    "\n",
    "sim_time = 3.0e-9\n",
    "n_of_steps = 100\n",
    "dt = sim_time / n_of_steps\n",
    "save_each_step = 10\n",
    "dt_save = dt * save_each_step\n",
    "time_grid = TimeGridConf(total=sim_time, step=dt, save_step=dt_save)\n",
    "print(time_grid)"
   ]
  },
  {
   "cell_type": "markdown",
   "metadata": {},
   "source": [
    "The simulation domain is defined as"
   ]
  },
  {
   "cell_type": "code",
   "execution_count": 3,
   "metadata": {},
   "outputs": [
    {
     "name": "stdout",
     "output_type": "stream",
     "text": [
      "### SpatialMeshConf:\n",
      "size = array([ 5.,  5., 10.])\n",
      "step = array([0.1, 0.1, 0.1])\n"
     ]
    }
   ],
   "source": [
    "mesh = SpatialMeshConf(size=(5, 5, 10), step=(.1, .1, .1))\n",
    "print(mesh)"
   ]
  },
  {
   "cell_type": "markdown",
   "metadata": {},
   "source": [
    "with z size approximately two times the estimated value, with 100 nodes in that direction. X and y sizes are 10 times the radius with 50 nodes in each direction."
   ]
  },
  {
   "cell_type": "markdown",
   "metadata": {},
   "source": [
    "The source is centered along the x and y axes and is close to origin along the z. For a time step dt = 3.00e-11 [s], to provide a current I = 0.1 [A] the source has to generate $n = I ~ dt ~/~ q = 1.87 \\cdot 10^7$ particles each time step. This is not computationally feasible, so instead let's fix an amount of generated particles to 5000 at each step. The charge of macroparticles should be $Q = I ~ dt ~/~ n = 1.799 \\cdot 10^{-6} ~ [\\mbox{cgs}]$ To preserve charge-to-mass ratio, mass of the macroparticles should be set to $M = Q ~/~ q_e ~ m_e = 3.672 \\cdot 10^{-24} ~ [\\mbox{g}]$. To have the same initial velocity as electrons, mean momentum should be set to $p = M ~ v = 6.641 \\cdot 10^{-15} ~ [\\mbox{g * cm / s}]$."
   ]
  },
  {
   "cell_type": "code",
   "execution_count": null,
   "metadata": {},
   "outputs": [],
   "source": [
    "num_of_real_particles = I * dt / q\n",
    "print( \"num_of_real_particles = {:.3e}\".format( num_of_real_particles ) )\n",
    "\n",
    "num_of_macro_particles = 5000\n",
    "macro_q = I * dt / num_of_macro_particles\n",
    "macro_m = macro_q / q * m\n",
    "macro_mean_momentum = macro_m * v\n",
    "print( \"num_of_macro_particles = {:d}\".format( num_of_macro_particles ) )\n",
    "print( \"macro_q = {:.3e} [cgs]\".format( macro_q ) )\n",
    "print( \"macro_m = {:.3e} [g]\".format( macro_m ) )\n",
    "print( \"macro_mean_momentum = {:.3e} [g * cm / s]\".format( macro_mean_momentum ) )\n",
    "\n",
    "\n",
    "source = ParticleSourceConf(\n",
    "    name = \"cathode_emitter\",\n",
    "    shape = Cylinder(start=(mesh.size[0]/2., mesh.size[1]/2., 0.52),\n",
    "                     end=(mesh.size[0]/2., mesh.size[1]/2., 0.51),\n",
    "                     radius=0.5),\n",
    "    initial_particles = num_of_macro_particles,\n",
    "    particles_to_generate_each_step = num_of_macro_particles,\n",
    "    momentum = (0, 0, macro_mean_momentum),\n",
    "    temperature = 0.0,\n",
    "    charge = -macro_q,\n",
    "    mass = macro_m\n",
    ")"
   ]
  },
  {
   "cell_type": "code",
   "execution_count": 5,
   "metadata": {},
   "outputs": [
    {
     "data": {
      "text/plain": [
       "<Figure size 640x480 with 1 Axes>"
      ]
     },
     "metadata": {},
     "output_type": "display_data"
    }
   ],
   "source": [
    "from ef.config.config import Config\n",
    "from ef.config.visualizer import Visualizer3d\n",
    "axially_symmetric_beam_conf = Config(time_grid, mesh, sources=[source])\n",
    "vis = Visualizer3d()\n",
    "axially_symmetric_beam_conf.visualize_all(vis)"
   ]
  },
  {
   "cell_type": "markdown",
   "metadata": {},
   "source": [
    "Potential is zero on each boundary of the domain (by default)."
   ]
  },
  {
   "cell_type": "markdown",
   "metadata": {},
   "source": [
    "Other config parameters:"
   ]
  },
  {
   "cell_type": "code",
   "execution_count": 6,
   "metadata": {},
   "outputs": [],
   "source": [
    "output_file = OutputFileConf(prefix = \"contour_jup_\", suffix = \".h5\")\n",
    "particle_interaction_model = ParticleInteractionModelConf(model = \"PIC\")"
   ]
  },
  {
   "cell_type": "code",
   "execution_count": 7,
   "metadata": {},
   "outputs": [
    {
     "name": "stdout",
     "output_type": "stream",
     "text": [
      "[TimeGrid]\n",
      "total_time = 3e-09\n",
      "time_save_step = 3e-10\n",
      "time_step_size = 3e-11\n",
      "\n",
      "[SpatialMesh]\n",
      "grid_x_size = 5.0\n",
      "grid_x_step = 0.1\n",
      "grid_y_size = 5.0\n",
      "grid_y_step = 0.1\n",
      "grid_z_size = 10.0\n",
      "grid_z_step = 0.1\n",
      "\n",
      "[ParticleSourceCylinder.cathode_emitter]\n",
      "cylinder_axis_start_x = 2.5\n",
      "cylinder_axis_start_y = 2.5\n",
      "cylinder_axis_start_z = 0.51\n",
      "cylinder_axis_end_x = 2.5\n",
      "cylinder_axis_end_y = 2.5\n",
      "cylinder_axis_end_z = 0.52\n",
      "cylinder_radius = 0.5\n",
      "initial_number_of_particles = 5000\n",
      "particles_to_generate_each_step = 5000\n",
      "mean_momentum_x = 0.0\n",
      "mean_momentum_y = 0.0\n",
      "mean_momentum_z = 6.640708217582056e-15\n",
      "temperature = 0.0\n",
      "charge = -1.7987547221058602e-06\n",
      "mass = 3.672457557632798e-24\n",
      "\n",
      "[OutputFilename]\n",
      "output_filename_prefix = contour_jup_\n",
      "output_filename_suffix = .h5\n",
      "\n",
      "[BoundaryConditions]\n",
      "boundary_phi_right = 0.0\n",
      "boundary_phi_left = 0.0\n",
      "boundary_phi_bottom = 0.0\n",
      "boundary_phi_top = 0.0\n",
      "boundary_phi_near = 0.0\n",
      "boundary_phi_far = 0.0\n",
      "\n",
      "[ParticleInteractionModel]\n",
      "particle_interaction_model = PIC\n",
      "\n",
      "\n"
     ]
    }
   ],
   "source": [
    "axially_symmetric_beam_conf = Config(time_grid, mesh, sources=[source],\n",
    "                                     particle_interaction_model=particle_interaction_model,\n",
    "                                     output_file=output_file)\n",
    "print(axially_symmetric_beam_conf.export_to_string())"
   ]
  },
  {
   "cell_type": "code",
   "execution_count": 8,
   "metadata": {},
   "outputs": [
    {
     "name": "stderr",
     "output_type": "stream",
     "text": [
      "WARNING:root:scipy.sparse.linalg.cg info: 1000\n"
     ]
    },
    {
     "ename": "ValueError",
     "evalue": "Arguments must be unit quaternions",
     "output_type": "error",
     "traceback": [
      "\u001b[0;31m---------------------------------------------------------------------------\u001b[0m",
      "\u001b[0;31mValueError\u001b[0m                                Traceback (most recent call last)",
      "\u001b[0;32m<ipython-input-8-aa67c93f3c8a>\u001b[0m in \u001b[0;36m<module>\u001b[0;34m\u001b[0m\n\u001b[0;32m----> 1\u001b[0;31m \u001b[0maxially_symmetric_beam_conf\u001b[0m\u001b[0;34m.\u001b[0m\u001b[0mmake\u001b[0m\u001b[0;34m(\u001b[0m\u001b[0;34m)\u001b[0m\u001b[0;34m.\u001b[0m\u001b[0mstart_pic_simulation\u001b[0m\u001b[0;34m(\u001b[0m\u001b[0;34m)\u001b[0m\u001b[0;34m\u001b[0m\u001b[0;34m\u001b[0m\u001b[0m\n\u001b[0m",
      "\u001b[0;32m~/Desktop/ef_python/src/ef/simulation.py\u001b[0m in \u001b[0;36mstart_pic_simulation\u001b[0;34m(self)\u001b[0m\n\u001b[1;32m     33\u001b[0m         \u001b[0mself\u001b[0m\u001b[0;34m.\u001b[0m\u001b[0meval_and_write_fields_without_particles\u001b[0m\u001b[0;34m(\u001b[0m\u001b[0;34m)\u001b[0m\u001b[0;34m\u001b[0m\u001b[0;34m\u001b[0m\u001b[0m\n\u001b[1;32m     34\u001b[0m         \u001b[0;32mfor\u001b[0m \u001b[0msrc\u001b[0m \u001b[0;32min\u001b[0m \u001b[0mself\u001b[0m\u001b[0;34m.\u001b[0m\u001b[0mparticle_sources\u001b[0m\u001b[0;34m:\u001b[0m\u001b[0;34m\u001b[0m\u001b[0;34m\u001b[0m\u001b[0m\n\u001b[0;32m---> 35\u001b[0;31m             \u001b[0msrc\u001b[0m\u001b[0;34m.\u001b[0m\u001b[0mgenerate_initial_particles\u001b[0m\u001b[0;34m(\u001b[0m\u001b[0;34m)\u001b[0m\u001b[0;34m\u001b[0m\u001b[0;34m\u001b[0m\u001b[0m\n\u001b[0m\u001b[1;32m     36\u001b[0m         \u001b[0mself\u001b[0m\u001b[0;34m.\u001b[0m\u001b[0mprepare_recently_generated_particles_for_boris_integration\u001b[0m\u001b[0;34m(\u001b[0m\u001b[0;34m)\u001b[0m\u001b[0;34m\u001b[0m\u001b[0;34m\u001b[0m\u001b[0m\n\u001b[1;32m     37\u001b[0m         \u001b[0mself\u001b[0m\u001b[0;34m.\u001b[0m\u001b[0mwrite_step_to_save\u001b[0m\u001b[0;34m(\u001b[0m\u001b[0;34m)\u001b[0m\u001b[0;34m\u001b[0m\u001b[0;34m\u001b[0m\u001b[0m\n",
      "\u001b[0;32m~/Desktop/ef_python/src/ef/particle_source.py\u001b[0m in \u001b[0;36mgenerate_initial_particles\u001b[0;34m(self)\u001b[0m\n\u001b[1;32m     33\u001b[0m     \u001b[0;32mdef\u001b[0m \u001b[0mgenerate_initial_particles\u001b[0m\u001b[0;34m(\u001b[0m\u001b[0mself\u001b[0m\u001b[0;34m)\u001b[0m\u001b[0;34m:\u001b[0m\u001b[0;34m\u001b[0m\u001b[0;34m\u001b[0m\u001b[0m\n\u001b[1;32m     34\u001b[0m         \u001b[0;31m# particle_arrays.reserve(initial_number_of_particles)\u001b[0m\u001b[0;34m\u001b[0m\u001b[0;34m\u001b[0m\u001b[0;34m\u001b[0m\u001b[0m\n\u001b[0;32m---> 35\u001b[0;31m         \u001b[0mself\u001b[0m\u001b[0;34m.\u001b[0m\u001b[0mgenerate_num_of_particles\u001b[0m\u001b[0;34m(\u001b[0m\u001b[0mself\u001b[0m\u001b[0;34m.\u001b[0m\u001b[0minitial_number_of_particles\u001b[0m\u001b[0;34m)\u001b[0m\u001b[0;34m\u001b[0m\u001b[0;34m\u001b[0m\u001b[0m\n\u001b[0m\u001b[1;32m     36\u001b[0m \u001b[0;34m\u001b[0m\u001b[0m\n\u001b[1;32m     37\u001b[0m     \u001b[0;32mdef\u001b[0m \u001b[0mgenerate_each_step\u001b[0m\u001b[0;34m(\u001b[0m\u001b[0mself\u001b[0m\u001b[0;34m)\u001b[0m\u001b[0;34m:\u001b[0m\u001b[0;34m\u001b[0m\u001b[0;34m\u001b[0m\u001b[0m\n",
      "\u001b[0;32m~/Desktop/ef_python/src/ef/particle_source.py\u001b[0m in \u001b[0;36mgenerate_num_of_particles\u001b[0;34m(self, num_of_particles)\u001b[0m\n\u001b[1;32m     42\u001b[0m         \u001b[0;32mif\u001b[0m \u001b[0mnum_of_particles\u001b[0m\u001b[0;34m:\u001b[0m\u001b[0;34m\u001b[0m\u001b[0;34m\u001b[0m\u001b[0m\n\u001b[1;32m     43\u001b[0m             \u001b[0mvec_of_ids\u001b[0m \u001b[0;34m=\u001b[0m \u001b[0mself\u001b[0m\u001b[0;34m.\u001b[0m\u001b[0mpopulate_vec_of_ids\u001b[0m\u001b[0;34m(\u001b[0m\u001b[0mnum_of_particles\u001b[0m\u001b[0;34m)\u001b[0m\u001b[0;34m\u001b[0m\u001b[0;34m\u001b[0m\u001b[0m\n\u001b[0;32m---> 44\u001b[0;31m             \u001b[0mpos\u001b[0m \u001b[0;34m=\u001b[0m \u001b[0mself\u001b[0m\u001b[0;34m.\u001b[0m\u001b[0mshape\u001b[0m\u001b[0;34m.\u001b[0m\u001b[0mgenerate_uniform_random_posititons\u001b[0m\u001b[0;34m(\u001b[0m\u001b[0mself\u001b[0m\u001b[0;34m.\u001b[0m\u001b[0m_generator\u001b[0m\u001b[0;34m,\u001b[0m \u001b[0mnum_of_particles\u001b[0m\u001b[0;34m)\u001b[0m\u001b[0;34m\u001b[0m\u001b[0;34m\u001b[0m\u001b[0m\n\u001b[0m\u001b[1;32m     45\u001b[0m             \u001b[0mmom\u001b[0m \u001b[0;34m=\u001b[0m \u001b[0mself\u001b[0m\u001b[0;34m.\u001b[0m\u001b[0m_generator\u001b[0m\u001b[0;34m.\u001b[0m\u001b[0mnormal\u001b[0m\u001b[0;34m(\u001b[0m\u001b[0mself\u001b[0m\u001b[0;34m.\u001b[0m\u001b[0mmean_momentum\u001b[0m\u001b[0;34m,\u001b[0m \u001b[0msqrt\u001b[0m\u001b[0;34m(\u001b[0m\u001b[0mself\u001b[0m\u001b[0;34m.\u001b[0m\u001b[0mmass\u001b[0m \u001b[0;34m*\u001b[0m \u001b[0mself\u001b[0m\u001b[0;34m.\u001b[0m\u001b[0mtemperature\u001b[0m\u001b[0;34m)\u001b[0m\u001b[0;34m,\u001b[0m \u001b[0;34m(\u001b[0m\u001b[0mnum_of_particles\u001b[0m\u001b[0;34m,\u001b[0m \u001b[0;36m3\u001b[0m\u001b[0;34m)\u001b[0m\u001b[0;34m)\u001b[0m\u001b[0;34m\u001b[0m\u001b[0;34m\u001b[0m\u001b[0m\n\u001b[1;32m     46\u001b[0m             \u001b[0mself\u001b[0m\u001b[0;34m.\u001b[0m\u001b[0mparticle_arrays\u001b[0m\u001b[0;34m.\u001b[0m\u001b[0mappend\u001b[0m\u001b[0;34m(\u001b[0m\u001b[0mParticleArray\u001b[0m\u001b[0;34m(\u001b[0m\u001b[0mvec_of_ids\u001b[0m\u001b[0;34m,\u001b[0m \u001b[0mself\u001b[0m\u001b[0;34m.\u001b[0m\u001b[0mcharge\u001b[0m\u001b[0;34m,\u001b[0m \u001b[0mself\u001b[0m\u001b[0;34m.\u001b[0m\u001b[0mmass\u001b[0m\u001b[0;34m,\u001b[0m \u001b[0mpos\u001b[0m\u001b[0;34m,\u001b[0m \u001b[0mmom\u001b[0m\u001b[0;34m)\u001b[0m\u001b[0;34m)\u001b[0m\u001b[0;34m\u001b[0m\u001b[0;34m\u001b[0m\u001b[0m\n",
      "\u001b[0;32m~/Desktop/ef_python/src/ef/config/components/shapes.py\u001b[0m in \u001b[0;36mgenerate_uniform_random_posititons\u001b[0;34m(self, random_state, n)\u001b[0m\n\u001b[1;32m     81\u001b[0m         \u001b[0mz\u001b[0m \u001b[0;34m=\u001b[0m \u001b[0mrandom_state\u001b[0m\u001b[0;34m.\u001b[0m\u001b[0muniform\u001b[0m\u001b[0;34m(\u001b[0m\u001b[0;36m0.0\u001b[0m\u001b[0;34m,\u001b[0m \u001b[0mnorm\u001b[0m\u001b[0;34m(\u001b[0m\u001b[0mself\u001b[0m\u001b[0;34m.\u001b[0m\u001b[0mend\u001b[0m \u001b[0;34m-\u001b[0m \u001b[0mself\u001b[0m\u001b[0;34m.\u001b[0m\u001b[0mstart\u001b[0m\u001b[0;34m)\u001b[0m\u001b[0;34m,\u001b[0m \u001b[0mn\u001b[0m\u001b[0;34m)\u001b[0m\u001b[0;34m\u001b[0m\u001b[0;34m\u001b[0m\u001b[0m\n\u001b[1;32m     82\u001b[0m         \u001b[0mpoints\u001b[0m \u001b[0;34m=\u001b[0m \u001b[0mnp\u001b[0m\u001b[0;34m.\u001b[0m\u001b[0mstack\u001b[0m\u001b[0;34m(\u001b[0m\u001b[0;34m(\u001b[0m\u001b[0mx\u001b[0m\u001b[0;34m,\u001b[0m \u001b[0my\u001b[0m\u001b[0;34m,\u001b[0m \u001b[0mz\u001b[0m\u001b[0;34m)\u001b[0m\u001b[0;34m,\u001b[0m \u001b[0;34m-\u001b[0m\u001b[0;36m1\u001b[0m\u001b[0;34m)\u001b[0m\u001b[0;34m\u001b[0m\u001b[0;34m\u001b[0m\u001b[0m\n\u001b[0;32m---> 83\u001b[0;31m         \u001b[0;32mreturn\u001b[0m \u001b[0mrowan\u001b[0m\u001b[0;34m.\u001b[0m\u001b[0mrotate\u001b[0m\u001b[0;34m(\u001b[0m\u001b[0mself\u001b[0m\u001b[0;34m.\u001b[0m\u001b[0m_rotation\u001b[0m\u001b[0;34m,\u001b[0m \u001b[0mpoints\u001b[0m\u001b[0;34m)\u001b[0m \u001b[0;34m+\u001b[0m \u001b[0mself\u001b[0m\u001b[0;34m.\u001b[0m\u001b[0mstart\u001b[0m\u001b[0;34m\u001b[0m\u001b[0;34m\u001b[0m\u001b[0m\n\u001b[0m\u001b[1;32m     84\u001b[0m \u001b[0;34m\u001b[0m\u001b[0m\n\u001b[1;32m     85\u001b[0m \u001b[0;34m\u001b[0m\u001b[0m\n",
      "\u001b[0;32m~/Desktop/ef_python/venv/lib/python3.7/site-packages/rowan/functions.py\u001b[0m in \u001b[0;36mrotate\u001b[0;34m(q, v)\u001b[0m\n\u001b[1;32m    522\u001b[0m     \"\"\"\n\u001b[1;32m    523\u001b[0m     \u001b[0mq\u001b[0m \u001b[0;34m=\u001b[0m \u001b[0mnp\u001b[0m\u001b[0;34m.\u001b[0m\u001b[0masarray\u001b[0m\u001b[0;34m(\u001b[0m\u001b[0mq\u001b[0m\u001b[0;34m)\u001b[0m\u001b[0;34m\u001b[0m\u001b[0;34m\u001b[0m\u001b[0m\n\u001b[0;32m--> 524\u001b[0;31m     \u001b[0m_validate_unit\u001b[0m\u001b[0;34m(\u001b[0m\u001b[0mq\u001b[0m\u001b[0;34m)\u001b[0m\u001b[0;34m\u001b[0m\u001b[0;34m\u001b[0m\u001b[0m\n\u001b[0m\u001b[1;32m    525\u001b[0m     \u001b[0mv\u001b[0m \u001b[0;34m=\u001b[0m \u001b[0mnp\u001b[0m\u001b[0;34m.\u001b[0m\u001b[0masarray\u001b[0m\u001b[0;34m(\u001b[0m\u001b[0mv\u001b[0m\u001b[0;34m)\u001b[0m\u001b[0;34m\u001b[0m\u001b[0;34m\u001b[0m\u001b[0m\n\u001b[1;32m    526\u001b[0m \u001b[0;34m\u001b[0m\u001b[0m\n",
      "\u001b[0;32m~/Desktop/ef_python/venv/lib/python3.7/site-packages/rowan/functions.py\u001b[0m in \u001b[0;36m_validate_unit\u001b[0;34m(q, msg)\u001b[0m\n\u001b[1;32m    440\u001b[0m     \u001b[0;34m\"\"\"Simple helper function to ensure that all quaternions in q are unit.\"\"\"\u001b[0m\u001b[0;34m\u001b[0m\u001b[0;34m\u001b[0m\u001b[0m\n\u001b[1;32m    441\u001b[0m     \u001b[0;32mif\u001b[0m \u001b[0;32mnot\u001b[0m \u001b[0mis_unit\u001b[0m\u001b[0;34m(\u001b[0m\u001b[0mq\u001b[0m\u001b[0;34m)\u001b[0m\u001b[0;34m:\u001b[0m\u001b[0;34m\u001b[0m\u001b[0;34m\u001b[0m\u001b[0m\n\u001b[0;32m--> 442\u001b[0;31m         \u001b[0;32mraise\u001b[0m \u001b[0mValueError\u001b[0m\u001b[0;34m(\u001b[0m\u001b[0mmsg\u001b[0m\u001b[0;34m)\u001b[0m\u001b[0;34m\u001b[0m\u001b[0;34m\u001b[0m\u001b[0m\n\u001b[0m\u001b[1;32m    443\u001b[0m \u001b[0;34m\u001b[0m\u001b[0m\n\u001b[1;32m    444\u001b[0m \u001b[0;34m\u001b[0m\u001b[0m\n",
      "\u001b[0;31mValueError\u001b[0m: Arguments must be unit quaternions"
     ]
    }
   ],
   "source": [
    "axially_symmetric_beam_conf.make().start_pic_simulation()"
   ]
  },
  {
   "cell_type": "code",
   "execution_count": null,
   "metadata": {},
   "outputs": [],
   "source": [
    "import h5py\n",
    "import numpy as np\n",
    "import matplotlib.pyplot as plt\n",
    "import scipy.integrate\n",
    "\n",
    "filename = 'contour_jup_0000100.h5'\n",
    "h5file = h5py.File( filename, mode = \"r\" )\n",
    "\n",
    "def get_source_current( h5file ):\n",
    "    time_step = h5file[\"/TimeGrid\"].attrs[\"time_step_size\"]\n",
    "    charge = h5file[\"/ParticleSources/cathode_emitter\"].attrs[\"charge\"]\n",
    "    particles_per_step = h5file[\n",
    "        \"/ParticleSources/cathode_emitter\"].attrs[\"particles_to_generate_each_step\"]\n",
    "    current = particles_per_step * charge / time_step\n",
    "    return current\n",
    "    \n",
    "def get_source_geometry( h5file ):\n",
    "    axis_start_x = \\\n",
    "        h5file[\"/ParticleSources/cathode_emitter\"].attrs[\"cylinder_axis_start_x\"]\n",
    "    axis_start_z = \\\n",
    "        h5file[\"/ParticleSources/cathode_emitter\"].attrs[\"cylinder_axis_start_z\"]\n",
    "    radius = h5file[\"/ParticleSources/cathode_emitter\"].attrs[\"cylinder_radius\"]\n",
    "    return ( axis_start_x, axis_start_z, radius )\n",
    "\n",
    "def get_source_particle_parameters( h5file ):\n",
    "    mass = h5file[\"/ParticleSources/cathode_emitter\"].attrs[\"mass\"]\n",
    "    charge = h5file[\"/ParticleSources/cathode_emitter\"].attrs[\"charge\"]\n",
    "    momentum_z = h5file[\"/ParticleSources/cathode_emitter\"].attrs[\"mean_momentum_z\"]\n",
    "    return ( mass, charge, momentum_z )\n",
    "\n",
    "def beam_radius( u, r_0 ):\n",
    "    return r_0 * np.exp( u ** 2 )\n",
    "\n",
    "def beam_z( u, m, v, q, I, r_0 ):\n",
    "    coeff = np.sqrt( m * v**3 / q / I ) * r_0\n",
    "    subint = lambda t: np.exp( t * t )\n",
    "    low_lim = 0\n",
    "    up_lim = u\n",
    "    integral_value = scipy.integrate.quad( subint, low_lim, up_lim )[0]\n",
    "    return coeff * integral_value\n",
    "\n",
    "beam_axis_x_pos, emitter_z_pos, r_0 = get_source_geometry( h5file )\n",
    "I = get_source_current( h5file )\n",
    "m, q, p = get_source_particle_parameters( h5file )\n",
    "v = p / m\n",
    "\n",
    "u_min = 0; u_max = 2; num_u_points = 100  # for u = 1, r = r(0) * 2.71812\n",
    "u = np.linspace( u_min, u_max, num_u_points )\n",
    "r_an = [ beam_radius( x, r_0 ) for x in u ]\n",
    "r_an_upper = r_an + beam_axis_x_pos\n",
    "r_an_lower = beam_axis_x_pos - r_an \n",
    "z_an = [ beam_z( x, m = m, v = v, q = q, I = I, r_0 = r_0 ) for x in u ]\n",
    "z_an = z_an + emitter_z_pos\n",
    "\n",
    "r_num = h5file[\"/ParticleSources/cathode_emitter/position_x\"]\n",
    "z_num = h5file[\"/ParticleSources/cathode_emitter/position_z\"]\n",
    "\n",
    "z_volume_size = h5file[\"/SpatialMesh\"].attrs[\"z_volume_size\"]\n",
    "x_volume_size = h5file[\"/SpatialMesh\"].attrs[\"x_volume_size\"]\n",
    "plt.xlabel( \"Z [cm]\" )\n",
    "plt.ylabel( \"X [cm]\" )\n",
    "plt.ylim( 0, x_volume_size )\n",
    "plt.xlim( 0, z_volume_size )\n",
    "plt.plot( z_num, r_num, '.', label = \"num\" )\n",
    "plt.plot( z_an, r_an_upper, label = \"theory\", color = \"g\" )\n",
    "plt.plot( z_an, r_an_lower, color = \"g\" )\n",
    "plt.legend()\n",
    "h5file.close()\n",
    "\n",
    "plt.savefig( \"beam_contour_jup.png\" )\n",
    "plt.show()"
   ]
  },
  {
   "cell_type": "code",
   "execution_count": null,
   "metadata": {},
   "outputs": [],
   "source": []
  }
 ],
 "metadata": {
  "kernelspec": {
   "display_name": "Python 3",
   "language": "python",
   "name": "python3"
  },
  "language_info": {
   "codemirror_mode": {
    "name": "ipython",
    "version": 3
   },
   "file_extension": ".py",
   "mimetype": "text/x-python",
   "name": "python",
   "nbconvert_exporter": "python",
   "pygments_lexer": "ipython3",
   "version": "3.7.2"
  }
 },
 "nbformat": 4,
 "nbformat_minor": 2
}
