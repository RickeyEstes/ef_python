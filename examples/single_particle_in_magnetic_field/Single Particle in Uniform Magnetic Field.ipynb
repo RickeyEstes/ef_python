{
 "cells": [
  {
   "cell_type": "markdown",
   "metadata": {},
   "source": [
    "## Trajectory equations:"
   ]
  },
  {
   "cell_type": "code",
   "execution_count": 1,
   "metadata": {},
   "outputs": [],
   "source": [
    "%matplotlib inline\n",
    "import matplotlib.pyplot as plt"
   ]
  },
  {
   "cell_type": "code",
   "execution_count": 2,
   "metadata": {},
   "outputs": [],
   "source": [
    "from sympy import *\n",
    "init_printing()"
   ]
  },
  {
   "cell_type": "code",
   "execution_count": 3,
   "metadata": {},
   "outputs": [],
   "source": [
    "Bx, By, Bz, B = symbols(\"B_x, B_y, B_z, B\")\n",
    "x, y, z = symbols(\"x, y, z\" )\n",
    "x_0, y_0, z_0 = symbols(\"x_0, y_0, z_0\")\n",
    "vx, vy, vz, v = symbols(\"v_x, v_y, v_z, v\")\n",
    "vx_0, vy_0, vz_0 = symbols(\"v_x0, v_y0, v_z0\")\n",
    "t = symbols(\"t\")\n",
    "q, m = symbols(\"q, m\")\n",
    "c, eps0 = symbols(\"c, epsilon_0\")"
   ]
  },
  {
   "cell_type": "markdown",
   "metadata": {},
   "source": [
    "The equation of motion:\n",
    "$$\n",
    "\\begin{gather*}\n",
    "  m \\frac{d^2 \\vec{r} }{dt^2} = \\frac{q}{c} [ \\vec{v} \\vec{B} ] \n",
    "\\end{gather*}\n",
    "$$"
   ]
  },
  {
   "cell_type": "markdown",
   "metadata": {},
   "source": [
    "For the case of a uniform magnetic field along the $z$-axis: \n",
    "$$ \\vec{B} = B_z = B, \\quad B_x = 0, \\quad B_y = 0 $$"
   ]
  },
  {
   "cell_type": "markdown",
   "metadata": {},
   "source": [
    "In Cortesian coordinates:"
   ]
  },
  {
   "cell_type": "code",
   "execution_count": 4,
   "metadata": {},
   "outputs": [
    {
     "data": {
      "image/png": "[encoded data removed]",
      "text/latex": [
       "$$\\frac{d^{2}}{d t^{2}} x{\\left (t \\right )} = \\frac{B_{z} q \\frac{d}{d t} y{\\left (t \\right )}}{c m}$$"
      ],
      "text/plain": [
       "                  d       \n",
       "  2         B_z⋅q⋅──(y(t))\n",
       " d                dt      \n",
       "───(x(t)) = ──────────────\n",
       "  2              c⋅m      \n",
       "dt                        "
      ]
     },
     "metadata": {},
     "output_type": "display_data"
    },
    {
     "data": {
      "image/png": "[encoded data removed]",
      "text/latex": [
       "$$\\frac{d^{2}}{d t^{2}} y{\\left (t \\right )} = - \\frac{B_{z} q \\frac{d}{d t} x{\\left (t \\right )}}{c m}$$"
      ],
      "text/plain": [
       "                   d        \n",
       "  2         -B_z⋅q⋅──(x(t)) \n",
       " d                 dt       \n",
       "───(y(t)) = ────────────────\n",
       "  2               c⋅m       \n",
       "dt                          "
      ]
     },
     "metadata": {},
     "output_type": "display_data"
    },
    {
     "data": {
      "image/png": "[encoded data removed]",
      "text/latex": [
       "$$\\frac{d^{2}}{d t^{2}} z{\\left (t \\right )} = 0$$"
      ],
      "text/plain": [
       "  2          \n",
       " d           \n",
       "───(z(t)) = 0\n",
       "  2          \n",
       "dt           "
      ]
     },
     "metadata": {},
     "output_type": "display_data"
    }
   ],
   "source": [
    "eq_x = Eq( Derivative(x(t), t, 2), q / c / m * Bz * Derivative(y(t),t) )\n",
    "eq_y = Eq( Derivative(y(t), t, 2), - q / c / m * Bz * Derivative(x(t),t) )\n",
    "eq_z = Eq( Derivative(z(t), t, 2), 0 )\n",
    "display( eq_x, eq_y, eq_z )"
   ]
  },
  {
   "cell_type": "markdown",
   "metadata": {},
   "source": [
    "Motion is uniform along the $z$-axis:"
   ]
  },
  {
   "cell_type": "code",
   "execution_count": 5,
   "metadata": {},
   "outputs": [
    {
     "data": {
      "image/png": "[encoded data removed]",
      "text/latex": [
       "$$z{\\left (t \\right )} = C_{1} + C_{2} t$$"
      ],
      "text/plain": [
       "z(t) = C₁ + C₂⋅t"
      ]
     },
     "metadata": {},
     "output_type": "display_data"
    },
    {
     "data": {
      "image/png": "[encoded data removed]",
      "text/latex": [
       "$$\\frac{d}{d t} z{\\left (t \\right )} = C_{2}$$"
      ],
      "text/plain": [
       "d            \n",
       "──(z(t)) = C₂\n",
       "dt           "
      ]
     },
     "metadata": {},
     "output_type": "display_data"
    }
   ],
   "source": [
    "z_eq = dsolve( eq_z, z(t) )\n",
    "vz_eq = Eq( z_eq.lhs.diff(t), z_eq.rhs.diff(t) )\n",
    "display( z_eq, vz_eq )"
   ]
  },
  {
   "cell_type": "markdown",
   "metadata": {},
   "source": [
    "The constants of integration can be found from the initial conditions $z(0) = z_0$ and $v_z(0) = v_{z0}$:"
   ]
  },
  {
   "cell_type": "code",
   "execution_count": 6,
   "metadata": {},
   "outputs": [
    {
     "data": {
      "image/png": "[encoded data removed]",
      "text/latex": [
       "$$\\left \\{ C_{1} : z_{0}, \\quad C_{2} : v_{z0}\\right \\}$$"
      ],
      "text/plain": [
       "{C₁: z₀, C₂: v_z0}"
      ]
     },
     "execution_count": 6,
     "metadata": {},
     "output_type": "execute_result"
    }
   ],
   "source": [
    "c1_c2_system = []\n",
    "initial_cond_subs = [(t, 0), (z(0), z_0), (diff(z(t),t).subs(t,0), vz_0) ]\n",
    "c1_c2_system.append( z_eq.subs( initial_cond_subs ) )\n",
    "c1_c2_system.append( vz_eq.subs( initial_cond_subs ) )\n",
    "\n",
    "c1, c2 = symbols(\"C1, C2\")\n",
    "c1_c2 = solve( c1_c2_system, [c1, c2] )\n",
    "c1_c2"
   ]
  },
  {
   "cell_type": "markdown",
   "metadata": {},
   "source": [
    "So that"
   ]
  },
  {
   "cell_type": "code",
   "execution_count": 7,
   "metadata": {},
   "outputs": [
    {
     "data": {
      "image/png": "[encoded data removed]",
      "text/latex": [
       "$$z{\\left (t \\right )} = t v_{z0} + z_{0}$$"
      ],
      "text/plain": [
       "z(t) = t⋅v_z0 + z₀"
      ]
     },
     "metadata": {},
     "output_type": "display_data"
    },
    {
     "data": {
      "image/png": "[encoded data removed]",
      "text/latex": [
       "$$\\operatorname{v_{z}}{\\left (t \\right )} = v_{z0}$$"
      ],
      "text/plain": [
       "v_z(t) = v_z0"
      ]
     },
     "metadata": {},
     "output_type": "display_data"
    }
   ],
   "source": [
    "z_sol = z_eq.subs( c1_c2 )\n",
    "vz_sol = vz_eq.subs( c1_c2 ).subs( [( diff(z(t),t), vz(t) ) ] )\n",
    "display( z_sol, vz_sol )"
   ]
  },
  {
   "cell_type": "markdown",
   "metadata": {},
   "source": [
    "For some reason I have not been able to solve the system of differential equations for $x$ and $y$ directly\n",
    "with Sympy's `dsolve` function:"
   ]
  },
  {
   "cell_type": "code",
   "execution_count": 8,
   "metadata": {},
   "outputs": [],
   "source": [
    "#dsolve( [eq_x, eq_y], [x(t),y(t)] )"
   ]
  },
  {
   "cell_type": "markdown",
   "metadata": {},
   "source": [
    "It is necessary to resort to the manual solution. The method is to differentiate one of them over \n",
    "time and substitute the other. This will result in oscillator-type second-order equations for $v_y$ and $v_x$. Their solution is known. Integrating one more time, it is possible to obtain laws of motion $x(t)$ and $y(t)$."
   ]
  },
  {
   "cell_type": "code",
   "execution_count": 9,
   "metadata": {},
   "outputs": [
    {
     "data": {
      "image/png": "[encoded data removed]",
      "text/latex": [
       "$$\\frac{d}{d t} \\operatorname{v_{x}}{\\left (t \\right )} = \\frac{B_{z} q \\operatorname{v_{y}}{\\left (t \\right )}}{c m}$$"
      ],
      "text/plain": [
       "d           B_z⋅q⋅v_y(t)\n",
       "──(vₓ(t)) = ────────────\n",
       "dt              c⋅m     "
      ]
     },
     "metadata": {},
     "output_type": "display_data"
    },
    {
     "data": {
      "image/png": "[encoded data removed]",
      "text/latex": [
       "$$\\frac{d}{d t} \\operatorname{v_{y}}{\\left (t \\right )} = - \\frac{B_{z} q \\operatorname{v_{x}}{\\left (t \\right )}}{c m}$$"
      ],
      "text/plain": [
       "d            -B_z⋅q⋅vₓ(t) \n",
       "──(v_y(t)) = ─────────────\n",
       "dt                c⋅m     "
      ]
     },
     "metadata": {},
     "output_type": "display_data"
    },
    {
     "data": {
      "image/png": "[encoded data removed]",
      "text/latex": [
       "$$\\frac{d^{2}}{d t^{2}} \\operatorname{v_{x}}{\\left (t \\right )} = - \\frac{B_{z}^{2} q^{2} \\operatorname{v_{x}}{\\left (t \\right )}}{c^{2} m^{2}}$$"
      ],
      "text/plain": [
       "  2              2  2       \n",
       " d           -B_z ⋅q ⋅vₓ(t) \n",
       "───(vₓ(t)) = ───────────────\n",
       "  2                2  2     \n",
       "dt                c ⋅m      "
      ]
     },
     "metadata": {},
     "output_type": "display_data"
    }
   ],
   "source": [
    "v_subs = [ (Derivative(x(t),t), vx(t)), (Derivative(y(t),t), vy(t)) ]\n",
    "eq_vx = eq_x.subs( v_subs )\n",
    "eq_vy = eq_y.subs( v_subs )\n",
    "display( eq_vx, eq_vy )\n",
    "\n",
    "eq_d2t_vx = Eq( diff(eq_vx.lhs,t), diff(eq_vx.rhs,t))\n",
    "eq_d2t_vx = eq_d2t_vx.subs( [(eq_vy.lhs, eq_vy.rhs)] )\n",
    "display( eq_d2t_vx )"
   ]
  },
  {
   "cell_type": "markdown",
   "metadata": {},
   "source": [
    "The solution of the last equation is"
   ]
  },
  {
   "cell_type": "code",
   "execution_count": 10,
   "metadata": {},
   "outputs": [
    {
     "data": {
      "image/png": "[encoded data removed]",
      "text/latex": [
       "$$\\operatorname{v_{x}}{\\left (t \\right )} = C_{1} \\cos{\\left (\\Omega t \\right )} + C_{2} \\sin{\\left (\\Omega t \\right )}$$"
      ],
      "text/plain": [
       "vₓ(t) = C₁⋅cos(Ω⋅t) + C₂⋅sin(Ω⋅t)"
      ]
     },
     "metadata": {},
     "output_type": "display_data"
    },
    {
     "data": {
      "image/png": "[encoded data removed]",
      "text/latex": [
       "$$\\Omega = \\frac{B_{z} q}{c m}$$"
      ],
      "text/plain": [
       "    B_z⋅q\n",
       "Ω = ─────\n",
       "     c⋅m "
      ]
     },
     "metadata": {},
     "output_type": "display_data"
    }
   ],
   "source": [
    "C1, C2, Omega = symbols( \"C1, C2, Omega\" )\n",
    "vx_eq = Eq( vx(t), C1 * cos( Omega * t ) + C2 * sin( Omega * t ))\n",
    "display( vx_eq )\n",
    "omega_eq = Eq( Omega, Bz * q / c / m )\n",
    "display( omega_eq )"
   ]
  },
  {
   "cell_type": "markdown",
   "metadata": {},
   "source": [
    "where $\\Omega$ is a cyclotron frequency."
   ]
  },
  {
   "cell_type": "code",
   "execution_count": 11,
   "metadata": {},
   "outputs": [
    {
     "data": {
      "image/png": "[encoded data removed]",
      "text/latex": [
       "$$\\operatorname{v_{x}}{\\left (t \\right )} = C_{1} \\cos{\\left (\\Omega t \\right )} + C_{2} \\sin{\\left (\\Omega t \\right )}$$"
      ],
      "text/plain": [
       "vₓ(t) = C₁⋅cos(Ω⋅t) + C₂⋅sin(Ω⋅t)"
      ]
     },
     "metadata": {},
     "output_type": "display_data"
    },
    {
     "data": {
      "image/png": "[encoded data removed]",
      "text/latex": [
       "$$\\operatorname{v_{y}}{\\left (t \\right )} = - C_{1} \\sin{\\left (\\Omega t \\right )} + C_{2} \\cos{\\left (\\Omega t \\right )}$$"
      ],
      "text/plain": [
       "v_y(t) = -C₁⋅sin(Ω⋅t) + C₂⋅cos(Ω⋅t)"
      ]
     },
     "metadata": {},
     "output_type": "display_data"
    }
   ],
   "source": [
    "display( vx_eq )\n",
    "\n",
    "vy_eq = Eq( vy(t), solve( Eq( diff(vx_eq.rhs,t), eq_vx.rhs ), ( vy(t) ) )[0] )\n",
    "vy_eq = vy_eq.subs( [(Omega*c*m / Bz / q, omega_eq.rhs * c * m / Bz / q)]).simplify()\n",
    "display( vy_eq )"
   ]
  },
  {
   "cell_type": "markdown",
   "metadata": {},
   "source": [
    "For initial conditions $v_x(0) = v_{x0}, v_y(0) = v_{y0}$:"
   ]
  },
  {
   "cell_type": "code",
   "execution_count": 12,
   "metadata": {},
   "outputs": [
    {
     "data": {
      "image/png": "[encoded data removed]",
      "text/latex": [
       "$$v_{x0} = C_{1}$$"
      ],
      "text/plain": [
       "vₓ₀ = C₁"
      ]
     },
     "metadata": {},
     "output_type": "display_data"
    },
    {
     "data": {
      "image/png": "[encoded data removed]",
      "text/latex": [
       "$$v_{y0} = C_{2}$$"
      ],
      "text/plain": [
       "v_y0 = C₂"
      ]
     },
     "metadata": {},
     "output_type": "display_data"
    },
    {
     "data": {
      "image/png": "[encoded data removed]",
      "text/latex": [
       "$$\\operatorname{v_{x}}{\\left (t \\right )} = v_{x0} \\cos{\\left (\\Omega t \\right )} + v_{y0} \\sin{\\left (\\Omega t \\right )}$$"
      ],
      "text/plain": [
       "vₓ(t) = vₓ₀⋅cos(Ω⋅t) + v_y0⋅sin(Ω⋅t)"
      ]
     },
     "metadata": {},
     "output_type": "display_data"
    },
    {
     "data": {
      "image/png": "[encoded data removed]",
      "text/latex": [
       "$$\\operatorname{v_{y}}{\\left (t \\right )} = - v_{x0} \\sin{\\left (\\Omega t \\right )} + v_{y0} \\cos{\\left (\\Omega t \\right )}$$"
      ],
      "text/plain": [
       "v_y(t) = -vₓ₀⋅sin(Ω⋅t) + v_y0⋅cos(Ω⋅t)"
      ]
     },
     "metadata": {},
     "output_type": "display_data"
    }
   ],
   "source": [
    "initial_cond_subs = [(t,0), (vx(0), vx_0), (vy(0), vy_0) ]\n",
    "vx0_eq = vx_eq.subs( initial_cond_subs )\n",
    "vy0_eq = vy_eq.subs( initial_cond_subs )\n",
    "display( vx0_eq, vy0_eq )\n",
    "\n",
    "c1_c2 = solve( [vx0_eq, vy0_eq] )\n",
    "c1_c2_subs = [ (\"C1\", c1_c2[c1]), (\"C2\", c1_c2[c2]) ]\n",
    "vx_eq = vx_eq.subs( c1_c2_subs )\n",
    "vy_eq = vy_eq.subs( c1_c2_subs )\n",
    "display( vx_eq, vy_eq )"
   ]
  },
  {
   "cell_type": "markdown",
   "metadata": {
    "collapsed": true
   },
   "source": [
    "These equations can be integrated to obtain the laws of motion:"
   ]
  },
  {
   "cell_type": "code",
   "execution_count": 13,
   "metadata": {},
   "outputs": [
    {
     "data": {
      "image/png": "[encoded data removed]",
      "text/latex": [
       "$$x{\\left (t \\right )} = C_{1} + v_{x0} \\left(\\begin{cases} \\frac{\\sin{\\left (\\Omega t \\right )}}{\\Omega} & \\text{for}\\: \\Omega \\neq 0 \\\\t & \\text{otherwise} \\end{cases}\\right) + v_{y0} \\left(\\begin{cases} - \\frac{\\cos{\\left (\\Omega t \\right )}}{\\Omega} & \\text{for}\\: \\Omega \\neq 0 \\\\0 & \\text{otherwise} \\end{cases}\\right)$$"
      ],
      "text/plain": [
       "                ⎛⎧sin(Ω⋅t)           ⎞        ⎛⎧-cos(Ω⋅t)            ⎞\n",
       "                ⎜⎪────────  for Ω ≠ 0⎟        ⎜⎪──────────  for Ω ≠ 0⎟\n",
       "x(t) = C₁ + vₓ₀⋅⎜⎨   Ω               ⎟ + v_y0⋅⎜⎨    Ω                ⎟\n",
       "                ⎜⎪                   ⎟        ⎜⎪                     ⎟\n",
       "                ⎝⎩   t      otherwise⎠        ⎝⎩    0       otherwise⎠"
      ]
     },
     "metadata": {},
     "output_type": "display_data"
    },
    {
     "data": {
      "image/png": "[encoded data removed]",
      "text/latex": [
       "$$y{\\left (t \\right )} = C_{2} - v_{x0} \\left(\\begin{cases} - \\frac{\\cos{\\left (\\Omega t \\right )}}{\\Omega} & \\text{for}\\: \\Omega \\neq 0 \\\\0 & \\text{otherwise} \\end{cases}\\right) + v_{y0} \\left(\\begin{cases} \\frac{\\sin{\\left (\\Omega t \\right )}}{\\Omega} & \\text{for}\\: \\Omega \\neq 0 \\\\t & \\text{otherwise} \\end{cases}\\right)$$"
      ],
      "text/plain": [
       "                ⎛⎧-cos(Ω⋅t)            ⎞        ⎛⎧sin(Ω⋅t)           ⎞\n",
       "                ⎜⎪──────────  for Ω ≠ 0⎟        ⎜⎪────────  for Ω ≠ 0⎟\n",
       "y(t) = C₂ - vₓ₀⋅⎜⎨    Ω                ⎟ + v_y0⋅⎜⎨   Ω               ⎟\n",
       "                ⎜⎪                     ⎟        ⎜⎪                   ⎟\n",
       "                ⎝⎩    0       otherwise⎠        ⎝⎩   t      otherwise⎠"
      ]
     },
     "metadata": {},
     "output_type": "display_data"
    }
   ],
   "source": [
    "x_eq = vx_eq.subs( vx(t), diff(x(t),t))\n",
    "x_eq = dsolve( x_eq )\n",
    "y_eq = vy_eq.subs( vy(t), diff(y(t),t))\n",
    "y_eq = dsolve( y_eq ).subs( C1, C2 )\n",
    "display( x_eq, y_eq )"
   ]
  },
  {
   "cell_type": "markdown",
   "metadata": {},
   "source": [
    "For nonzero $\\Omega$:"
   ]
  },
  {
   "cell_type": "code",
   "execution_count": 14,
   "metadata": {},
   "outputs": [
    {
     "data": {
      "image/png": "[encoded data removed]",
      "text/latex": [
       "$$x{\\left (t \\right )} = C_{1} + \\frac{v_{x0} \\sin{\\left (\\Omega t \\right )}}{\\Omega} - \\frac{v_{y0} \\cos{\\left (\\Omega t \\right )}}{\\Omega}$$"
      ],
      "text/plain": [
       "            vₓ₀⋅sin(Ω⋅t)   v_y0⋅cos(Ω⋅t)\n",
       "x(t) = C₁ + ──────────── - ─────────────\n",
       "                 Ω               Ω      "
      ]
     },
     "metadata": {},
     "output_type": "display_data"
    },
    {
     "data": {
      "image/png": "[encoded data removed]",
      "text/latex": [
       "$$y{\\left (t \\right )} = C_{2} + \\frac{v_{x0} \\cos{\\left (\\Omega t \\right )}}{\\Omega} + \\frac{v_{y0} \\sin{\\left (\\Omega t \\right )}}{\\Omega}$$"
      ],
      "text/plain": [
       "            vₓ₀⋅cos(Ω⋅t)   v_y0⋅sin(Ω⋅t)\n",
       "y(t) = C₂ + ──────────── + ─────────────\n",
       "                 Ω               Ω      "
      ]
     },
     "metadata": {},
     "output_type": "display_data"
    }
   ],
   "source": [
    "x_eq = x_eq.subs( [(Omega, 123)] ).subs( [(123, Omega)] ).subs( [(Rational(1,123), 1/Omega)] )\n",
    "y_eq = y_eq.subs( [(Omega, 123)] ).subs( [(123, Omega)] ).subs( [(Rational(1,123), 1/Omega)] )\n",
    "display( x_eq, y_eq )"
   ]
  },
  {
   "cell_type": "markdown",
   "metadata": {},
   "source": [
    "For initial conditions $x(0) = x_0, y(0) = y_0$:"
   ]
  },
  {
   "cell_type": "code",
   "execution_count": 15,
   "metadata": {},
   "outputs": [
    {
     "data": {
      "image/png": "[encoded data removed]",
      "text/latex": [
       "$$x_{0} = C_{1} - \\frac{v_{y0}}{\\Omega}$$"
      ],
      "text/plain": [
       "          v_y0\n",
       "x₀ = C₁ - ────\n",
       "           Ω  "
      ]
     },
     "metadata": {},
     "output_type": "display_data"
    },
    {
     "data": {
      "image/png": "[encoded data removed]",
      "text/latex": [
       "$$y_{0} = C_{2} + \\frac{v_{x0}}{\\Omega}$$"
      ],
      "text/plain": [
       "          vₓ₀\n",
       "y₀ = C₂ + ───\n",
       "           Ω "
      ]
     },
     "metadata": {},
     "output_type": "display_data"
    },
    {
     "data": {
      "image/png": "[encoded data removed]",
      "text/latex": [
       "$$x{\\left (t \\right )} = \\frac{v_{x0} \\sin{\\left (\\Omega t \\right )}}{\\Omega} - \\frac{v_{y0} \\cos{\\left (\\Omega t \\right )}}{\\Omega} + \\frac{\\Omega x_{0} + v_{y0}}{\\Omega}$$"
      ],
      "text/plain": [
       "       vₓ₀⋅sin(Ω⋅t)   v_y0⋅cos(Ω⋅t)   Ω⋅x₀ + v_y0\n",
       "x(t) = ──────────── - ───────────── + ───────────\n",
       "            Ω               Ω              Ω     "
      ]
     },
     "metadata": {},
     "output_type": "display_data"
    },
    {
     "data": {
      "image/png": "[encoded data removed]",
      "text/latex": [
       "$$y{\\left (t \\right )} = \\frac{v_{x0} \\cos{\\left (\\Omega t \\right )}}{\\Omega} + \\frac{v_{y0} \\sin{\\left (\\Omega t \\right )}}{\\Omega} + \\frac{\\Omega y_{0} - v_{x0}}{\\Omega}$$"
      ],
      "text/plain": [
       "       vₓ₀⋅cos(Ω⋅t)   v_y0⋅sin(Ω⋅t)   Ω⋅y₀ - vₓ₀\n",
       "y(t) = ──────────── + ───────────── + ──────────\n",
       "            Ω               Ω             Ω     "
      ]
     },
     "metadata": {},
     "output_type": "display_data"
    }
   ],
   "source": [
    "initial_cond_subs = [(t,0), (x(0), x_0), (y(0), y_0) ]\n",
    "x0_eq = x_eq.subs( initial_cond_subs )\n",
    "y0_eq = y_eq.subs( initial_cond_subs )\n",
    "display( x0_eq, y0_eq )\n",
    "\n",
    "c1_c2 = solve( [x0_eq, y0_eq] )\n",
    "c1_c2_subs = [ (\"C1\", c1_c2[0][c1]), (\"C2\", c1_c2[0][c2]) ]\n",
    "x_eq = x_eq.subs( c1_c2_subs )\n",
    "y_eq = y_eq.subs( c1_c2_subs )\n",
    "display( x_eq, y_eq )"
   ]
  },
  {
   "cell_type": "code",
   "execution_count": 16,
   "metadata": {},
   "outputs": [
    {
     "data": {
      "image/png": "[encoded data removed]",
      "text/latex": [
       "$$x{\\left (t \\right )} = x_{0} + \\frac{v_{x0} \\sin{\\left (\\Omega t \\right )}}{\\Omega} - \\frac{v_{y0} \\cos{\\left (\\Omega t \\right )}}{\\Omega} + \\frac{v_{y0}}{\\Omega}$$"
      ],
      "text/plain": [
       "            vₓ₀⋅sin(Ω⋅t)   v_y0⋅cos(Ω⋅t)   v_y0\n",
       "x(t) = x₀ + ──────────── - ───────────── + ────\n",
       "                 Ω               Ω          Ω  "
      ]
     },
     "metadata": {},
     "output_type": "display_data"
    },
    {
     "data": {
      "image/png": "[encoded data removed]",
      "text/latex": [
       "$$y{\\left (t \\right )} = y_{0} + \\frac{v_{x0} \\cos{\\left (\\Omega t \\right )}}{\\Omega} - \\frac{v_{x0}}{\\Omega} + \\frac{v_{y0} \\sin{\\left (\\Omega t \\right )}}{\\Omega}$$"
      ],
      "text/plain": [
       "            vₓ₀⋅cos(Ω⋅t)   vₓ₀   v_y0⋅sin(Ω⋅t)\n",
       "y(t) = y₀ + ──────────── - ─── + ─────────────\n",
       "                 Ω          Ω          Ω      "
      ]
     },
     "metadata": {},
     "output_type": "display_data"
    }
   ],
   "source": [
    "x_eq = x_eq.simplify()\n",
    "y_eq = y_eq.simplify()\n",
    "x_eq = x_eq.expand().collect(Omega)\n",
    "y_eq = y_eq.expand().collect(Omega)\n",
    "display( x_eq, y_eq )"
   ]
  },
  {
   "cell_type": "markdown",
   "metadata": {},
   "source": [
    "Finally"
   ]
  },
  {
   "cell_type": "code",
   "execution_count": 17,
   "metadata": {},
   "outputs": [
    {
     "data": {
      "image/png": "[encoded data removed]",
      "text/latex": [
       "$$x{\\left (t \\right )} = x_{0} + \\frac{v_{x0} \\sin{\\left (\\Omega t \\right )}}{\\Omega} - \\frac{v_{y0} \\cos{\\left (\\Omega t \\right )}}{\\Omega} + \\frac{v_{y0}}{\\Omega}$$"
      ],
      "text/plain": [
       "            vₓ₀⋅sin(Ω⋅t)   v_y0⋅cos(Ω⋅t)   v_y0\n",
       "x(t) = x₀ + ──────────── - ───────────── + ────\n",
       "                 Ω               Ω          Ω  "
      ]
     },
     "metadata": {},
     "output_type": "display_data"
    },
    {
     "data": {
      "image/png": "[encoded data removed]",
      "text/latex": [
       "$$y{\\left (t \\right )} = y_{0} + \\frac{v_{x0} \\cos{\\left (\\Omega t \\right )}}{\\Omega} - \\frac{v_{x0}}{\\Omega} + \\frac{v_{y0} \\sin{\\left (\\Omega t \\right )}}{\\Omega}$$"
      ],
      "text/plain": [
       "            vₓ₀⋅cos(Ω⋅t)   vₓ₀   v_y0⋅sin(Ω⋅t)\n",
       "y(t) = y₀ + ──────────── - ─── + ─────────────\n",
       "                 Ω          Ω          Ω      "
      ]
     },
     "metadata": {},
     "output_type": "display_data"
    },
    {
     "data": {
      "image/png": "[encoded data removed]",
      "text/latex": [
       "$$z{\\left (t \\right )} = t v_{z0} + z_{0}$$"
      ],
      "text/plain": [
       "z(t) = t⋅v_z0 + z₀"
      ]
     },
     "metadata": {},
     "output_type": "display_data"
    },
    {
     "data": {
      "image/png": "[encoded data removed]",
      "text/latex": [
       "$$\\operatorname{v_{x}}{\\left (t \\right )} = v_{x0} \\cos{\\left (\\Omega t \\right )} + v_{y0} \\sin{\\left (\\Omega t \\right )}$$"
      ],
      "text/plain": [
       "vₓ(t) = vₓ₀⋅cos(Ω⋅t) + v_y0⋅sin(Ω⋅t)"
      ]
     },
     "metadata": {},
     "output_type": "display_data"
    },
    {
     "data": {
      "image/png": "[encoded data removed]",
      "text/latex": [
       "$$\\operatorname{v_{y}}{\\left (t \\right )} = - v_{x0} \\sin{\\left (\\Omega t \\right )} + v_{y0} \\cos{\\left (\\Omega t \\right )}$$"
      ],
      "text/plain": [
       "v_y(t) = -vₓ₀⋅sin(Ω⋅t) + v_y0⋅cos(Ω⋅t)"
      ]
     },
     "metadata": {},
     "output_type": "display_data"
    },
    {
     "data": {
      "image/png": "[encoded data removed]",
      "text/latex": [
       "$$\\operatorname{v_{z}}{\\left (t \\right )} = v_{z0}$$"
      ],
      "text/plain": [
       "v_z(t) = v_z0"
      ]
     },
     "metadata": {},
     "output_type": "display_data"
    },
    {
     "data": {
      "image/png": "[encoded data removed]",
      "text/latex": [
       "$$\\Omega = \\frac{B_{z} q}{c m}$$"
      ],
      "text/plain": [
       "    B_z⋅q\n",
       "Ω = ─────\n",
       "     c⋅m "
      ]
     },
     "metadata": {},
     "output_type": "display_data"
    }
   ],
   "source": [
    "display( x_eq, y_eq, z_sol )\n",
    "display( vx_eq, vy_eq, vz_sol )\n",
    "display( omega_eq )"
   ]
  },
  {
   "cell_type": "code",
   "execution_count": null,
   "metadata": {},
   "outputs": [],
   "source": []
  }
 ],
 "metadata": {
  "kernelspec": {
   "display_name": "Python 3",
   "language": "python",
   "name": "python3"
  },
  "language_info": {
   "codemirror_mode": {
    "name": "ipython",
    "version": 3
   },
   "file_extension": ".py",
   "mimetype": "text/x-python",
   "name": "python",
   "nbconvert_exporter": "python",
   "pygments_lexer": "ipython3",
   "version": "3.7.2"
  }
 },
 "nbformat": 4,
 "nbformat_minor": 2
}
