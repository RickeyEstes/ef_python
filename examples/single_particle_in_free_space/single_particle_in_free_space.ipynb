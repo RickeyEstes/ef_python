{
 "cells": [
  {
   "cell_type": "code",
   "execution_count": null,
   "metadata": {},
   "outputs": [],
   "source": [
    "%matplotlib inline"
   ]
  },
  {
   "cell_type": "markdown",
   "metadata": {},
   "source": [
    "Dynamics of a single particle in free space is the simplest kind of simulation. It allows to check basic functionality of the program, and, besides, it is a good way to become familiar with how the program works."
   ]
  },
  {
   "cell_type": "markdown",
   "metadata": {},
   "source": [
    "In absence of external forces, a body moves in straight line with constant velocity\n",
    "\n",
    "\\begin{align}\n",
    "& \\textbf{r}(t) = \\textbf{r}_0 + \\textbf{v}_0 t\n",
    "\\\\\n",
    "& \\textbf{v}(t) = \\textbf{v}_0\n",
    "\\end{align}"
   ]
  },
  {
   "cell_type": "markdown",
   "metadata": {},
   "source": [
    "To get some sense of scales (see below), suppose the particle is an electron that has just passed an 1 keV accelerating potential difference. Its mass `m` and charge `q` are `q = 4.8e-10 [cgs], m = 9.1e-28 [g]`. Since its energy is nonrelativistic, it's possible to calculate its speed simply as $v = \\sqrt{ 2 E / m } = 1.808e+09 ~ [cm/s]$. To cover a `10 [cm]` distance with such speed, it will take the electron `t = 5.530e-09 [s] ~ 6 [ns]`."
   ]
  },
  {
   "cell_type": "code",
   "execution_count": null,
   "metadata": {},
   "outputs": [],
   "source": [
    "from math import *\n",
    "\n",
    "m = 9.8e-28\n",
    "q = 4.8e-10\n",
    "print( \"q = {:.3e} [cgs]\".format( q ) )\n",
    "print( \"m = {:.3e} [g]\".format( m ) )\n",
    "\n",
    "ev_to_cgs = 1.60218e-12\n",
    "E = 1000 * ev_to_cgs\n",
    "v = sqrt( 2 * E / m )\n",
    "z = 10\n",
    "t = z / v\n",
    "print( \"E = {:.3e} [eV] = {:.3e} [erg]\".format( E / ev_to_cgs, E ) )\n",
    "print( \"v = {:.3e} [cm/s]; p = {:.3e} [g * cm/s]\".format( v, v * m ) )\n",
    "print( \"z = {:.3e} [cm]\".format( z ) )\n",
    "print( \"t = {:.3e} [s]\".format( t ) )"
   ]
  },
  {
   "cell_type": "markdown",
   "metadata": {},
   "source": [
    "To perform a simulation, it's necessary to prepare a config file. It is an `ini`-file with sections describing the simulation parameters, e.g.:\n",
    "\n",
    "```\n",
    "[TimeGrid]\n",
    "total_time = 6e-09\n",
    "time_save_step = 6e-12\n",
    "time_step_size = 6e-12\n",
    "\n",
    "[SpatialMesh]\n",
    "grid_x_size = 5.0\n",
    "grid_x_step = 0.5\n",
    "grid_y_size = 5.0\n",
    "grid_y_step = 0.5\n",
    "grid_z_size = 15.0\n",
    "grid_z_step = 1.5\n",
    "\n",
    "[ParticleSourceBox.emit_single_particle]\n",
    "box_x_left = 0.11\n",
    "box_x_right = 0.1\n",
    "...\n",
    "```\n",
    "If Ef is invoked from the command line, this file is passed as an argument:\n",
    "\n",
    "```\n",
    "./ef.out conf.ini\n",
    "```\n",
    "\n",
    "The list of supported config sections can be found in the wiki: https://github.com/epicf/ef/wiki/Supported-Config-File-Sections ."
   ]
  },
  {
   "cell_type": "markdown",
   "metadata": {},
   "source": [
    "Config classes can be used to create, visualize and read/write to ini the config file with python or jupyter."
   ]
  },
  {
   "cell_type": "code",
   "execution_count": null,
   "metadata": {},
   "outputs": [],
   "source": [
    "from ef.config.components import *\n",
    "from ef.config.config import Config\n",
    "from ef.config.visualizer import Visualizer3d\n",
    "Visualizer3d()\n"
   ]
  },
  {
   "cell_type": "markdown",
   "metadata": {},
   "source": [
    "First, it's necessary to set a total time of the simulation and a time step.\n",
    "Let's use the estimates above as guiding values and set the total time to `6e-9 [s]`.\n",
    "We use `1000` time steps, so that `time_step_size = 6.0e-12 [s]`. \n",
    "Besides, it's necessary to decide at which time steps the state of the whole simulation should be saved to the disk.\n",
    "To save each step, `time_save_step` is set equal to `time_step_size`: `time_save_step = 6.0e-12`."
   ]
  },
  {
   "cell_type": "code",
   "execution_count": null,
   "metadata": {},
   "outputs": [],
   "source": [
    "single_particle_in_free_space_conf = \"\"\n",
    "\n",
    "time_grid_sec = \"\"\"\n",
    "[TimeGrid]\n",
    "total_time = 6e-09\n",
    "time_save_step = 6e-12\n",
    "time_step_size = 6e-12\n",
    "\"\"\"\n",
    "\n",
    "single_particle_in_free_space_conf = single_particle_in_free_space_conf + time_grid_sec\n",
    "\n",
    "print( single_particle_in_free_space_conf )"
   ]
  },
  {
   "cell_type": "code",
   "execution_count": null,
   "metadata": {},
   "outputs": [],
   "source": [
    "timegrid = TimeGridConf(total=6e-09, save_step=6e-12, step=6e-12)\n",
    "print(repr(timegrid))\n",
    "print(timegrid)"
   ]
  },
  {
   "cell_type": "markdown",
   "metadata": {},
   "source": [
    "Next we need to define size of a computational volume.\n",
    "Domain size is set to 15 [cm] along the z-axis and 5 [cm] along the x- and y-axes. \n",
    "The parameters for PIC-mesh are also defined in this section.\n",
    "Since we are going to use noninteracting particle model instead of PIC, they are not used and can be set arbitrary. "
   ]
  },
  {
   "cell_type": "code",
   "execution_count": null,
   "metadata": {},
   "outputs": [],
   "source": [
    "spat_mesh_sec = \"\"\"\n",
    "[SpatialMesh]\n",
    "grid_x_size = 5.0\n",
    "grid_x_step = 0.5\n",
    "grid_y_size = 5.0\n",
    "grid_y_step = 0.5\n",
    "grid_z_size = 15.0\n",
    "grid_z_step = 1.5\n",
    "\"\"\"\n",
    "\n",
    "single_particle_in_free_space_conf = single_particle_in_free_space_conf + spat_mesh_sec\n",
    "\n",
    "print( single_particle_in_free_space_conf )"
   ]
  },
  {
   "cell_type": "code",
   "execution_count": null,
   "metadata": {
    "scrolled": true
   },
   "outputs": [],
   "source": [
    "mesh = SpatialMeshConf((5, 5, 15), (.5, .5, 1.5))\n",
    "print(repr(mesh))\n",
    "print(mesh)\n",
    "Visualizer3d().visualize([mesh])\n"
   ]
  },
  {
   "cell_type": "markdown",
   "metadata": {},
   "source": [
    "Next, a particle source. \n",
    "We need a single particle at startup ( `initial_number_of_particles = 1` ), approximately 1 [mm] away from\n",
    "coordinate axis origin at the bottom-left-near corner of the domain (`shape = Box( origin = (0.1, ...` below and `box_x_left = 0.10 ...` in the ini-version).\n",
    "Charge and mass are set to those of the electron.\n",
    "Momentum corresponding to 1 keV energy is `1.772e-18 [g * cm / s]`.\n",
    "Such value is set for momentum along the z-axis. \n",
    "Momenta along the x- and y-axes could be set to zero; instead they are chosen 3 times smaller than the z-axis momentum\n",
    "(domain size along the x and y is 3 times smaller than along the z). \n",
    "To prevent any variation in momentum, the `temperature` is set to 0.\n",
    "Notice that the source is given a descriptive name: `emit_single_particle` in this case."
   ]
  },
  {
   "cell_type": "code",
   "execution_count": null,
   "metadata": {},
   "outputs": [],
   "source": [
    "emit_single_particle_sec = \"\"\"\n",
    "[ParticleSourceBox.emit_single_particle]\n",
    "box_x_left = 0.11\n",
    "box_x_right = 0.1\n",
    "box_y_bottom = 0.1\n",
    "box_y_top = 0.11\n",
    "box_z_near = 0.1\n",
    "box_z_far = 0.11\n",
    "initial_number_of_particles = 1\n",
    "particles_to_generate_each_step = 0\n",
    "mean_momentum_x = 6e-19\n",
    "mean_momentum_y = 6e-19\n",
    "mean_momentum_z = 1.77e-18\n",
    "temperature = 0.0\n",
    "charge = 4.8e-10\n",
    "mass = 9.8e-28\n",
    "\"\"\"\n",
    "\n",
    "single_particle_in_free_space_conf = single_particle_in_free_space_conf + emit_single_particle_sec\n",
    "\n",
    "print( single_particle_in_free_space_conf )"
   ]
  },
  {
   "cell_type": "code",
   "execution_count": null,
   "metadata": {},
   "outputs": [],
   "source": [
    "source = ParticleSourceConf(\"emit_single_particle\", Box((.1, .1, .1), (.01, .01, .01)), 1, 0,\n",
    "                           (6e-19, 6e-19, 1.77e-18), 0., 4.8e-10, 9.8e-28)\n",
    "print(repr(source))\n",
    "print(source)\n",
    "Visualizer3d().visualize([mesh, source]) # small dot near (0, 0, 0) because mesh is so big"
   ]
  },
  {
   "cell_type": "markdown",
   "metadata": {},
   "source": [
    "Next section is boundary conditions. \n",
    "In a free space, potentials on each boundary should be equal. \n",
    "It is possible to simply set them to zero."
   ]
  },
  {
   "cell_type": "code",
   "execution_count": null,
   "metadata": {},
   "outputs": [],
   "source": [
    "boundary_sec = \"\"\"\n",
    "[BoundaryConditions]\n",
    "boundary_phi_right = 0.0\n",
    "boundary_phi_left = 0.0\n",
    "boundary_phi_bottom = 0.0\n",
    "boundary_phi_top = 0.0\n",
    "boundary_phi_near = 0.0\n",
    "boundary_phi_far = 0.0\n",
    "\"\"\"\n",
    "\n",
    "single_particle_in_free_space_conf = single_particle_in_free_space_conf + boundary_sec\n",
    "\n",
    "print( single_particle_in_free_space_conf )"
   ]
  },
  {
   "cell_type": "code",
   "execution_count": null,
   "metadata": {},
   "outputs": [],
   "source": [
    "boundary_conditions = BoundaryConditionsConf(0)\n",
    "print(repr(boundary_conditions))\n",
    "print(boundary_conditions)"
   ]
  },
  {
   "cell_type": "markdown",
   "metadata": {},
   "source": [
    "Particle interaction model allows to choose between noninteracting particles, particle interacting with binary forces and PIC method. Since there is only one particle, there is no need to use PIC, and noninteracting mode is enough. Moreover, PIC will lead to wrong results (because particle creates electric field that acts back on the particle). "
   ]
  },
  {
   "cell_type": "code",
   "execution_count": null,
   "metadata": {},
   "outputs": [],
   "source": [
    "particle_interaction_model_sec = \"\"\"\n",
    "[ParticleInteractionModel]\n",
    "particle_interaction_model = noninteracting\n",
    "\"\"\"\n",
    "\n",
    "single_particle_in_free_space_conf = single_particle_in_free_space_conf + particle_interaction_model_sec\n",
    "\n",
    "print( single_particle_in_free_space_conf )"
   ]
  },
  {
   "cell_type": "code",
   "execution_count": null,
   "metadata": {},
   "outputs": [],
   "source": [
    "model = ParticleInteractionModelConf('noninteracting')\n",
    "print(repr(model))\n",
    "print(model)"
   ]
  },
  {
   "cell_type": "markdown",
   "metadata": {},
   "source": [
    "The last step is to specify pattern for output file names. \n",
    "They will be of the form `single_particle_free_space_0001000.h5`, where `0001000` is a time step number."
   ]
  },
  {
   "cell_type": "code",
   "execution_count": null,
   "metadata": {},
   "outputs": [],
   "source": [
    "output_sec = \"\"\"\n",
    "[OutputFilename]\n",
    "output_filename_prefix = single_particle_free_space_\n",
    "output_filename_suffix = .h5\n",
    "\"\"\"\n",
    "\n",
    "single_particle_in_free_space_conf = single_particle_in_free_space_conf + output_sec\n",
    "\n",
    "print( single_particle_in_free_space_conf )"
   ]
  },
  {
   "cell_type": "markdown",
   "metadata": {},
   "source": [
    "To start the simulation, the config should saved into file and provided as an argument to the `ef.out`, e.g.:\n",
    "\n",
    "```\n",
    "ef.out ./single_particle_in_free_space_conf.ini\n",
    "```\n",
    "\n",
    "EfJupyter module provides a wrapper `EfRunner` to do this.  "
   ]
  },
  {
   "cell_type": "code",
   "execution_count": null,
   "metadata": {},
   "outputs": [],
   "source": [
    "file_conf = OutputFileConf('single_particle_free_space_', '.h5')\n",
    "print(repr(file_conf))\n",
    "print(file_conf)"
   ]
  },
  {
   "cell_type": "markdown",
   "metadata": {},
   "source": [
    "You can check that config objects describe the same simulation:"
   ]
  },
  {
   "cell_type": "code",
   "execution_count": null,
   "metadata": {},
   "outputs": [],
   "source": [
    "conf = Config(timegrid, mesh, [source], [], file_conf, boundary_conditions, model)\n",
    "print(conf)\n",
    "print(conf.export_to_string())\n",
    "assert repr(Config.from_string(single_particle_in_free_space_conf)) == repr(conf)\n",
    "conf.visualize_all(Visualizer3d())"
   ]
  },
  {
   "cell_type": "markdown",
   "metadata": {},
   "source": [
    "To run outside Jupyter just save the config file\n",
    "\n",
    "-  with any text editor\n",
    "-  or with `efconf.export_to_file()`\n",
    "\n",
    "Run `ef config.ini` in the directory where you want simulation to run and save results.\n",
    "\n",
    "To run in python from Jupyter:"
   ]
  },
  {
   "cell_type": "code",
   "execution_count": null,
   "metadata": {
    "scrolled": true
   },
   "outputs": [],
   "source": [
    "# if you start from .ini\n",
    "# conf = Config.from_fname('config.ini')\n",
    "domain = conf.make()\n",
    "domain.start_pic_simulation()\n"
   ]
  },
  {
   "cell_type": "markdown",
   "metadata": {},
   "source": [
    "To run outside python (for example, C++ ef):"
   ]
  },
  {
   "cell_type": "code",
   "execution_count": null,
   "metadata": {},
   "outputs": [],
   "source": [
    "conf.export_to_fname('config.ini')"
   ]
  },
  {
   "cell_type": "code",
   "execution_count": null,
   "metadata": {},
   "outputs": [],
   "source": [
    "!ef config.ini"
   ]
  },
  {
   "cell_type": "markdown",
   "metadata": {},
   "source": [
    "After the simulation finishes, a bunch of `*.h5` files emerge in the directory."
   ]
  },
  {
   "cell_type": "code",
   "execution_count": null,
   "metadata": {},
   "outputs": [],
   "source": [
    "!ls"
   ]
  },
  {
   "cell_type": "markdown",
   "metadata": {},
   "source": [
    "To open these files and glance over the results, an [Hdfview](https://support.hdfgroup.org/products/java/hdfview/) is a convenient tool.\n",
    "In this simulation, two places are of interest: `current time` and particle position\n",
    "and momentum at this time moment:\n",
    "\n",
    "<p align=\"center\">\n",
    "<img src=\"https://github.com/epicf/ef/blob/dev/doc/figs/single_particle_in_free_space/hdfview_results.png?raw=true\" alt=\"hdfview screenshot\" width=\"600\"/>\n",
    "</p>"
   ]
  },
  {
   "cell_type": "markdown",
   "metadata": {},
   "source": [
    "Each created `h5`-file corresponds to a different time step. \n",
    "If we were able to extract time, position and momentum of the particle from each file, we could have obtained numerical trajectory, which could be compared to the analytical one. "
   ]
  },
  {
   "cell_type": "markdown",
   "metadata": {},
   "source": [
    "Data extraction and plotting are accomplished by the accompanying [`plot.py`](https://github.com/epicf/ef/blob/master/examples/single_particle_in_free_space/plot.py) python script (see below). Its constituent parts are described further. The script produces a 3d plot and side views of the numerical and analytical trajectories. Besides, kinetic energies are compared."
   ]
  },
  {
   "cell_type": "code",
   "execution_count": null,
   "metadata": {},
   "outputs": [],
   "source": [
    "import pandas as pd\n",
    "import os, glob\n",
    "import h5py\n",
    "import numpy as np\n",
    "import matplotlib.pyplot as plt\n",
    "from mpl_toolkits.mplot3d import Axes3D \n",
    "\n",
    "def main():\n",
    "    num = extract_num_trajectory_from_out_files()\n",
    "    an = eval_an_trajectory_at_num_time_points( num )\n",
    "    plot_trajectories( num , an )\n",
    "\n",
    "def extract_num_trajectory_from_out_files():\n",
    "    out_files = glob.glob(\"single_particle_free_space_[0-9]*.h5\")\n",
    "\n",
    "    num_trajectory = []\n",
    "    for f in out_files:\n",
    "        num_trajectory.append( extract_time_pos_mom( f ) )    \n",
    "\n",
    "    num_trajectory = sorted([ x for x in num_trajectory if x ], key = lambda x: x[0])\n",
    "    return pd.DataFrame.from_records(num_trajectory, columns=('t', 'x', 'y', 'z', 'px', 'py', 'pz'))\n",
    "    \n",
    "def extract_time_pos_mom( h5file ):\n",
    "    with h5py.File(h5file, mode=\"r\") as h5:\n",
    "        t = h5[\"/time_grid\"].attrs[\"current_time\"]\n",
    "        particle_array = h5[\"/particle_sources/0/particle_arrays/0\"]\n",
    "        pos = particle_array[\"positions\"][0]\n",
    "        momentum = particle_array[\"momentums\"][0]\n",
    "    return [t] + list(pos) + list(momentum)\n",
    "\n",
    "def eval_an_trajectory_at_num_time_points( num_trajectory ):\n",
    "    global particle_mass\n",
    "    particle_mass, pos0, mom0 =  get_mass_and_initial_pos_and_mom()\n",
    "\n",
    "    an_trajectory = []\n",
    "    for t in num_trajectory.t:\n",
    "        pos = coords( particle_mass, t, pos0, mom0 )\n",
    "        mom = momenta( t, mom0 )\n",
    "        an_trajectory.append([t] + list(pos) + list(mom))\n",
    "\n",
    "    return pd.DataFrame.from_records(an_trajectory, columns=('t', 'x', 'y', 'z', 'px', 'py', 'pz'))\n",
    "\n",
    "def get_mass_and_initial_pos_and_mom():\n",
    "    initial_out_file = \"single_particle_free_space_0000000.h5\"\n",
    "    with h5py.File( initial_out_file, mode=\"r\") as h5:\n",
    "        particle_array = h5[\"/particle_sources/0/particle_arrays/0\"]\n",
    "        m = particle_array.attrs[\"mass\"]\n",
    "        pos0 = particle_array[\"positions\"][0]\n",
    "        mom0 = particle_array[\"momentums\"][0]\n",
    "    return m, pos0, mom0\n",
    "\n",
    "def momenta( t, mom0 ):    \n",
    "    return mom0\n",
    "\n",
    "def coords( m, t, pos0, mom0 ):\n",
    "    pos = pos0 + mom0 / m * t\n",
    "    return pos\n",
    "\n",
    "def plot_trajectories( num , an ):\n",
    "    plot_3d( num, an )\n",
    "    plot_2d( num, an )\n",
    "    plot_kin_en( num , an )\n",
    "\n",
    "def plot_3d( num, an ):\n",
    "    fig = plt.figure()\n",
    "    ax = fig.gca( projection='3d' )\n",
    "    ax.plot( num.x, num.z, num.y, 'b.', markersize = 12, label = \"Num\" )\n",
    "    ax.plot( an.x, an.z, an.y,  'g-', linewidth = 3, label = \"An\" )\n",
    "    ax.set_xlabel('X [cm]')\n",
    "    ax.set_ylabel('Z [cm]')\n",
    "    ax.set_zlabel('Y [cm]')\n",
    "    plt.legend( loc = 'upper left', title=\"3d\" )\n",
    "    #print( 'Saving 3d trajectory plot to \"3d.png\"' )\n",
    "    #plt.savefig('3d.png')\n",
    "    plt.show()\n",
    "\n",
    "def plot_2d( num, an ):\n",
    "    plt.figure( figsize=( 16, 6 ) )\n",
    "    plt.subplots_adjust( left = None, bottom = None,\n",
    "                         right = None, top = None,\n",
    "                         wspace = 0.4, hspace = None )\n",
    "    #XY\n",
    "    ax = plt.subplot(131)\n",
    "    plt.plot( num.x, num.y,\n",
    "              linestyle='', marker='o',\n",
    "              label = \"Num\" )\n",
    "    plt.plot( an.x, an.y,\n",
    "              linestyle='-', marker='', lw = 2,\n",
    "              label = \"An\" )\n",
    "    ax.set_xlabel('X [cm]') \n",
    "    ax.set_ylabel('Y [cm]') \n",
    "    plt.legend( loc = 'upper left', title=\"XY\" )\n",
    "    #ZX\n",
    "    ax = plt.subplot(132)\n",
    "    plt.plot( num.z, num.x,\n",
    "        linestyle='', marker='o',\n",
    "        label = \"Num\" )\n",
    "    plt.plot( an.z, an.x,\n",
    "              linestyle='-', marker='', lw = 2,\n",
    "              label = \"An\" )\n",
    "    ax.set_xlabel('Z [cm]') \n",
    "    ax.set_ylabel('X [cm]') \n",
    "    plt.legend( loc = 'upper left', title=\"ZX\" )\n",
    "    #ZY\n",
    "    ax = plt.subplot(133)\n",
    "    plt.plot( num.z, num.y,\n",
    "        linestyle='', marker='o',\n",
    "        label = \"Num\" )\n",
    "    plt.plot( an.z, an.y,\n",
    "              linestyle='-', marker='', lw = 2,\n",
    "              label = \"An\" )\n",
    "    ax.set_xlabel('Z [cm]') \n",
    "    ax.set_ylabel('Y [cm]') \n",
    "    plt.legend( loc = 'upper left', title=\"ZY\" )\n",
    "    #print( 'Saving 2d trajectory projection plots to \"2d.png\"' )\n",
    "    #plt.savefig('2d.png')\n",
    "    plt.show()\n",
    "    \n",
    "def plot_kin_en( num , an ):\n",
    "    global particle_mass\n",
    "    E_num = (num.px**2 + num.py**2 + num.pz**2) / ( 2 * particle_mass )\n",
    "    E_an = (an.px**2 + an.py**2 + an.pz**2) / ( 2 * particle_mass )\n",
    "    t = num.t\n",
    "    plt.figure()\n",
    "    axes = plt.gca()\n",
    "    axes.set_xlabel( \"t [s]\" )\n",
    "    axes.set_ylabel( \"E [erg]\" )\n",
    "    # axes.set_ylim( [min( E_an.min(), E_num.min() ),\n",
    "    #                 max( E_an.max(), E_num.max() ) ] )\n",
    "    line, = plt.plot( t, E_num, 'o' )\n",
    "    line.set_label( \"Num\" )\n",
    "    line, = plt.plot( t, E_an, ls = 'solid', lw = 3 )\n",
    "    line.set_label( \"An\" )\n",
    "    plt.legend( loc = 'upper right' )\n",
    "    #print( 'Saving kinetic energy comparison plot to \"kin_en.png\"' )\n",
    "    #plt.savefig('kin_en.png')\n",
    "    plt.show()\n",
    "\n",
    "\n",
    "main()"
   ]
  },
  {
   "cell_type": "markdown",
   "metadata": {},
   "source": [
    "It can be seen, that numerical trajectory (points) coincides with the analytical (line) and that the energy is conserved during the simulation."
   ]
  },
  {
   "cell_type": "markdown",
   "metadata": {},
   "source": [
    "### Plotting script\n",
    "\n",
    "The `main` function of the script does exactly what is described above: extracts numerical trajectory from the output files, evaluates analytical trajectory at the extracted time points and plots both numerical and analytical trajectories on the same axes.\n",
    "\n",
    "```\n",
    "def main():\n",
    "    num = extract_num_trajectory_from_out_files()\n",
    "    an = eval_an_trajectory_at_num_time_points( num )\n",
    "    plot_trajectories( num , an )\n",
    "```"
   ]
  },
  {
   "cell_type": "markdown",
   "metadata": {},
   "source": [
    "It uses [h5py](http://www.h5py.org/) library to read from h5 files, [numpy](http://www.numpy.org/) to simplify working with arrays and [matplotlib](https://matplotlib.org/) to perform plotting of the trajectory. \n",
    "\n",
    "```\n",
    "import os, glob\n",
    "import h5py\n",
    "import numpy as np\n",
    "import matplotlib.pyplot as plt\n",
    "from mpl_toolkits.mplot3d import Axes3D \n",
    "```"
   ]
  },
  {
   "cell_type": "markdown",
   "metadata": {},
   "source": [
    "Let's examine the function to obtain the numerical trajectory:\n",
    "\n",
    "```\n",
    "def extract_num_trajectory_from_out_files():\n",
    "    out_files = find_necessary_out_files()                           # (*1)\n",
    "\n",
    "    num_trajectory = []\n",
    "    for f in out_files:\n",
    "        num_trajectory.append( extract_time_pos_mom( f ) )           # (*2)  \n",
    "\n",
    "    num_trajectory = remove_empty_and_sort_by_time( num_trajectory ) # (*3)\n",
    "    num_trajectory = np.array( num_trajectory,                       # (*4)\n",
    "                               dtype=[('t','float'),\n",
    "                                      ('x','float'), ('y','float'), ('z','float'),\n",
    "                                      ('px','float'), ('py','float'),('pz','float')])\n",
    "    return( num_trajectory )\n",
    "```\n",
    "\n",
    "(\\*1): To extract data, first we find all `*.h5` files in the current directory.  \n",
    "(\\*2): Then the script iterates over them and extracts a relevant data from each one.  \n",
    "(\\*3): In the end of this process, `num_trajectory` array contains positions and velocities of particle at different\n",
    "time steps. In is convenient to sort it over time values.  \n",
    "(\\*4): After the previous step the numerical trajectory is in a format of a list of tuples:\n",
    "`[ (t, x, y, z, px, py, pz), ..... ]` . It is convenient to convert it into one of the `np.array` types to simplify further manipulations with it.  "
   ]
  },
  {
   "cell_type": "markdown",
   "metadata": {},
   "source": [
    "For analytical trajectory we need the initial position and momentum.\n",
    "They can be extracted from the first h5-file:\n",
    "\n",
    "```\n",
    "def get_mass_and_initial_pos_and_mom():\n",
    "    initial_out_file = \"single_particle_free_space_0000000.h5\"\n",
    "    h5 = h5py.File( initial_out_file, mode=\"r\")\n",
    "    m = h5[\"/ParticleSources/emit_single_particle\"].attrs[\"mass\"][0]\n",
    "    x0 = h5[\"/ParticleSources/emit_single_particle/position_x\"][0]\n",
    "    y0 = h5[\"/ParticleSources/emit_single_particle/position_y\"][0]\n",
    "    z0 = h5[\"/ParticleSources/emit_single_particle/position_z\"][0]\n",
    "    px0 = h5[\"/ParticleSources/emit_single_particle/momentum_x\"][0]\n",
    "    py0 = h5[\"/ParticleSources/emit_single_particle/momentum_y\"][0]\n",
    "    pz0 = h5[\"/ParticleSources/emit_single_particle/momentum_z\"][0]\n",
    "    h5.close()\n",
    "    return( m, x0, y0, z0, px0, py0, pz0 )\n",
    "```"
   ]
  },
  {
   "cell_type": "markdown",
   "metadata": {},
   "source": [
    "With this function, the analytical trajectory can be computed at the same \n",
    "time points as the numerical one:\n",
    "\n",
    "```\n",
    "def eval_an_trajectory_at_num_time_points( num_trajectory ):\n",
    "    global particle_mass\n",
    "    particle_mass, x0, y0, z0, px0, py0, pz0 =  get_mass_and_initial_pos_and_mom()\n",
    "    #\n",
    "    an_trajectory = np.empty_like( num_trajectory )\n",
    "    for i, t in enumerate( num_trajectory['t'] ):\n",
    "        x, y, z = coords( particle_mass, t, x0, y0, z0, px0, py0, pz0 )\n",
    "        px, py, pz = momenta( t, px0, py0, pz0 )\n",
    "        an_trajectory[i] = ( t, x, y ,z, px, py, pz )\n",
    "    #\n",
    "    return( an_trajectory )\n",
    "```"
   ]
  },
  {
   "cell_type": "markdown",
   "metadata": {},
   "source": [
    "Finally, both numerical and analytical trajectories are plotted in 3d and side views. \n",
    "Kinetic energies are also compared.\n",
    "\n",
    "```\n",
    "def plot_trajectories( num , an ):\n",
    "    plot_3d( num, an )\n",
    "    plot_2d( num, an )\n",
    "    plot_kin_en( num , an )\n",
    "```"
   ]
  },
  {
   "cell_type": "code",
   "execution_count": null,
   "metadata": {},
   "outputs": [],
   "source": []
  }
 ],
 "metadata": {
  "kernelspec": {
   "display_name": "Python 3",
   "language": "python",
   "name": "python3"
  },
  "language_info": {
   "codemirror_mode": {
    "name": "ipython",
    "version": 3
   },
   "file_extension": ".py",
   "mimetype": "text/x-python",
   "name": "python",
   "nbconvert_exporter": "python",
   "pygments_lexer": "ipython3",
   "version": "3.7.2"
  }
 },
 "nbformat": 4,
 "nbformat_minor": 2
}
