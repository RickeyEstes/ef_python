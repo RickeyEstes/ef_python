{
 "cells": [
  {
   "cell_type": "code",
   "execution_count": null,
   "metadata": {},
   "outputs": [],
   "source": [
    "%matplotlib inline\n",
    "import sys\n",
    "sys.path.append('../../')\n",
    "from ef.config.visualizer import Visualizer3d\n",
    "from ef.config.efconf import EfConf\n",
    "from ef.config.components import *"
   ]
  },
  {
   "cell_type": "markdown",
   "metadata": {},
   "source": [
    "Dynamics of a single particle in free space is the simplest kind of simulation. It allows to check basic functionality of the program, and, besides, it is a good way to become familiar with how the program works."
   ]
  },
  {
   "cell_type": "markdown",
   "metadata": {},
   "source": [
    "In absence of external forces, a body moves in straight line with constant velocity\n",
    "\n",
    "\\begin{align}\n",
    "& \\textbf{r}(t) = \\textbf{r}_0 + \\textbf{v}_0 t\n",
    "\\\\\n",
    "& \\textbf{v}(t) = \\textbf{v}_0\n",
    "\\end{align}"
   ]
  },
  {
   "cell_type": "markdown",
   "metadata": {},
   "source": [
    "To get some sense of scales (see below), suppose the particle is an electron that has just passed an 1 keV accelerating potential difference. It's mass `m` and charge `q` are `q = 4.8e-10 [cgs], m = 9.1e-28 [g]`. Since it's energy is nonrelativistic, it's possible to calculate it's speed simply as $v = \\sqrt{ 2 E / m } = 1.808e+09 ~ [cm/s]$. To cover a `10 [cm]` distance with such speed, it will take the electron `t = 5.530e-09 [s] ~ 6 [ns]`."
   ]
  },
  {
   "cell_type": "code",
   "execution_count": null,
   "metadata": {},
   "outputs": [],
   "source": [
    "from math import *\n",
    "\n",
    "m = 9.8e-28\n",
    "q = 4.8e-10\n",
    "print( \"q = {:.3e} [cgs]\".format( q ) )\n",
    "print( \"m = {:.3e} [g]\".format( m ) )\n",
    "\n",
    "ev_to_cgs = 1.60218e-12\n",
    "E = 1000 * ev_to_cgs\n",
    "v = sqrt( 2 * E / m )\n",
    "z = 10\n",
    "t = z / v\n",
    "print( \"E = {:.3e} [eV] = {:.3e} [erg]\".format( E / ev_to_cgs, E ) )\n",
    "print( \"v = {:.3e} [cm/s]; p = {:.3e} [g * cm/s]\".format( v, v * m ) )\n",
    "print( \"z = {:.3e} [cm]\".format( z ) )\n",
    "print( \"t = {:.3e} [s]\".format( t ) )"
   ]
  },
  {
   "cell_type": "markdown",
   "metadata": {},
   "source": [
    "To perform a simulation, it's necessary to prepare a config file. \n",
    "First, it's necessary to set a total time of the simulation and a time step.\n",
    "Let's use the estimates above as guiding values and set the total time to `6e-9 [s]`.\n",
    "We use `1000` time steps, so that `time_step_size = 6.0e-12 [s]`. \n",
    "Besides, it's necessary to decide at which time steps the state of the whole simulation should be saved to the disk.\n",
    "To save each step, `time_save_step` is set equal to `time_step_size`: `time_save_step = 6.0e-12`."
   ]
  },
  {
   "cell_type": "code",
   "execution_count": null,
   "metadata": {},
   "outputs": [],
   "source": [
    "#tmp_conf.visualize_all( v )\n",
    "\n",
    "single_particle_in_free_space = EfConf()\n",
    "vis = Visualizer3d()\n",
    "\n",
    "single_particle_in_free_space.time_grid = TimeGrid(\n",
    "    total = 6.0e-9,\n",
    "    step = 6.0e-12,\n",
    "    save_step = 6.0e-12\n",
    ")\n",
    "\n",
    "print( single_particle_in_free_space.export_to_string() )"
   ]
  },
  {
   "cell_type": "markdown",
   "metadata": {},
   "source": [
    "Next we need to define size of a computational volume.\n",
    "Domain size is set to 15 [cm] along the z-axis and 5 [cm] along the x- and y-axes. \n",
    "The parameters for PIC-mesh are also defined in this section.\n",
    "Since we are going to use noninteracting particle model instead of PIC, they are not used and can be set arbitrary. "
   ]
  },
  {
   "cell_type": "code",
   "execution_count": null,
   "metadata": {},
   "outputs": [],
   "source": [
    "single_particle_in_free_space.spatial_mesh = SpatialMesh(\n",
    "    size = ( 5.0, 5.0, 15.0 ),\n",
    "    step = ( 0.5, 0.5, 1.5 )\n",
    ")\n",
    "\n",
    "print( single_particle_in_free_space.export_to_string() )"
   ]
  },
  {
   "cell_type": "markdown",
   "metadata": {},
   "source": [
    "Next, a particle source. \n",
    "We need a single particle at startup ( `initial_number_of_particles = 1` ), approximately 1 [mm] away from\n",
    "coordinate axis origin at the bottom-left-near corner of the domain (`box_x_left = 0.10` etc).\n",
    "Charge and mass are set to those of the electron.\n",
    "Momentum corresponding to 1 keV energy is `1.772e-18 [g * cm / s]`.\n",
    "Such value is set for momentum along the z-axis. \n",
    "Momenta along the x- and y-axes could be set to zero; instead they are chosen 3 times smaller than the z-axis momentum\n",
    "(domain size along the x and y is 3 times smaller than along the z). \n",
    "To prevent any variation in momentum, the `temperature` is set to 0.\n",
    "Notice a source is given a descriptive: `emit_single_particle` in this case."
   ]
  },
  {
   "cell_type": "code",
   "execution_count": null,
   "metadata": {},
   "outputs": [],
   "source": [
    "# todo: add method to add single source\n",
    "\n",
    "single_particle_in_free_space.sources = [ \n",
    "    ParticleSource(\n",
    "        name = \"emit_single_particle\",\n",
    "        initial_particles = 1,\n",
    "        particles_to_generate_each_step = 0,\n",
    "        #shape = Box( origin = (0.1, 0.1, 0.1), size = ( 0.01, 0.01, 0.01 ) ),\n",
    "        shape = Box( origin = (0.1, 0.1, 0.1), size = ( -0.01, 0.01, 0.01 ) ), # hack left > right error\n",
    "        momentum = ( 0.6e-18, 0.6e-18, 1.77e-18 ),\n",
    "        temperature = 0.0,\n",
    "        charge = 4.8e-10,\n",
    "        mass = 9.8e-28\n",
    "    )\n",
    "]\n",
    "\n",
    "print( single_particle_in_free_space.export_to_string() )"
   ]
  },
  {
   "cell_type": "markdown",
   "metadata": {},
   "source": [
    "Next section is boundary conditions. \n",
    "In a free space, potentials on each boundary should be equal. \n",
    "It is possible to simply set them to zero."
   ]
  },
  {
   "cell_type": "code",
   "execution_count": null,
   "metadata": {
    "collapsed": true
   },
   "outputs": [],
   "source": [
    "single_particle_in_free_space.boundary_conditions = BoundaryConditions( potential = 0 )\n",
    "\n",
    "print( single_particle_in_free_space.export_to_string() )"
   ]
  },
  {
   "cell_type": "markdown",
   "metadata": {},
   "source": [
    "Particle interaction model allows to choose between noninteracting particles and particles interacting by\n",
    "particle-in-cell method. Since there is only one particle, there is no need to use PIC, and noninteracting mode is enough. Moreover, PIC will lead to wrong results (because particle creates electric field that acts back on the particle). "
   ]
  },
  {
   "cell_type": "code",
   "execution_count": null,
   "metadata": {},
   "outputs": [],
   "source": [
    "single_particle_in_free_space.particle_interaction_model = ParticleInteractionModel(\n",
    "    model = \"noninteracting\"\n",
    ")\n",
    "\n",
    "print( single_particle_in_free_space.export_to_string() )"
   ]
  },
  {
   "cell_type": "markdown",
   "metadata": {},
   "source": [
    "The last step is to specify pattern for output file names. \n",
    "They will be of the form `single_particle_free_space_0001000.h5`, where `0001000` is a time step number."
   ]
  },
  {
   "cell_type": "code",
   "execution_count": null,
   "metadata": {},
   "outputs": [],
   "source": [
    "single_particle_in_free_space.output_file = OutputFile(\n",
    "    prefix = \"single_particle_free_space_\",\n",
    "    suffix = \".h5\"\n",
    ")\n",
    "\n",
    "print( single_particle_in_free_space.export_to_string() )"
   ]
  },
  {
   "cell_type": "markdown",
   "metadata": {},
   "source": [
    "To start the simulation, the config should be provided as an argument to the `ef.out`."
   ]
  },
  {
   "cell_type": "code",
   "execution_count": null,
   "metadata": {},
   "outputs": [],
   "source": [
    "from ef.util.runner import EfRunner\n",
    "\n",
    "\n",
    "runner = EfRunner( conf = single_particle_in_free_space, ef_command=\"python3 ../../main.py\" )\n",
    "runner.run()"
   ]
  },
  {
   "cell_type": "markdown",
   "metadata": {},
   "source": [
    "After the simulation finishes, a bunch of `*.h5` files will emerge in the directory.\n",
    "To open them and glance over the results, an [Hdfview](https://support.hdfgroup.org/products/java/hdfview/) is a convenient tool.\n",
    "In this simulation, two places are of interest: `current time` and particle position\n",
    "and momentum at this time moment:\n",
    "\n",
    "<p align=\"center\">\n",
    "<img src=\"https://github.com/epicf/ef/blob/dev/doc/figs/single_particle_in_free_space/hdfview_results.png\" alt=\"hdfview screenshot\" width=\"800\"/>\n",
    "</p>\n"
   ]
  },
  {
   "cell_type": "markdown",
   "metadata": {},
   "source": [
    "Each output `h5`-file corresponds to a different time step. \n",
    "If we were able to extract time, position and momentum of the particle from each file, we could have obtained numerical trajectory, which could be compared to the analytical one. "
   ]
  },
  {
   "cell_type": "markdown",
   "metadata": {},
   "source": [
    "Data extraction and plotting are accomplished by the accompanying [`plot.py`](https://github.com/epicf/ef/blob/master/examples/single_particle_in_free_space/plot.py) python script.\n",
    "It's `main` function does exactly what is described above: extracts numerical trajectory from the output\n",
    "files, evaluates analytical trajectory at the extracted time points and plots both numerical and analytical\n",
    "trajectories on the same axes.  "
   ]
  },
  {
   "cell_type": "code",
   "execution_count": null,
   "metadata": {
    "collapsed": true
   },
   "outputs": [],
   "source": [
    "def main():\n",
    "    num = extract_num_trajectory_from_out_files()\n",
    "    an = eval_an_trajectory_at_num_time_points( num )\n",
    "    plot_trajectories( num , an )"
   ]
  },
  {
   "cell_type": "markdown",
   "metadata": {},
   "source": [
    "It uses [h5py](http://www.h5py.org/) library to read from h5 files, [numpy](http://www.numpy.org/) to simplify working with arrays and [matplotlib](https://matplotlib.org/) to perform plotting of the trajectory. "
   ]
  },
  {
   "cell_type": "code",
   "execution_count": null,
   "metadata": {
    "collapsed": true
   },
   "outputs": [],
   "source": [
    "import os, glob\n",
    "import h5py\n",
    "import numpy as np\n",
    "import matplotlib.pyplot as plt\n",
    "from mpl_toolkits.mplot3d import Axes3D "
   ]
  },
  {
   "cell_type": "markdown",
   "metadata": {},
   "source": [
    "Let's examine the function to obtain the numerical trajectory:"
   ]
  },
  {
   "cell_type": "code",
   "execution_count": null,
   "metadata": {
    "collapsed": true
   },
   "outputs": [],
   "source": [
    "def extract_num_trajectory_from_out_files():\n",
    "    out_files = find_necessary_out_files()                           # (*1)\n",
    "\n",
    "    num_trajectory = []\n",
    "    for f in out_files:\n",
    "        num_trajectory.append( extract_time_pos_mom( f ) )           # (*2)  \n",
    "\n",
    "    num_trajectory = remove_empty_and_sort_by_time( num_trajectory ) # (*3)\n",
    "    num_trajectory = np.array( num_trajectory,                       # (*4)\n",
    "                               dtype=[('t','float'),\n",
    "                                      ('x','float'), ('y','float'), ('z','float'),\n",
    "                                      ('px','float'), ('py','float'),('pz','float')])\n",
    "    return( num_trajectory )"
   ]
  },
  {
   "cell_type": "markdown",
   "metadata": {},
   "source": [
    "(\\*1): To extract data, first we find all *.h5 files in the current directory.  \n",
    "(\\*2): Then the script iterates over them and extracts a relevant data from each one.  \n",
    "(\\*3): In the end of this process, `num_trajectory` array contains positions and velocities of particle at different\n",
    "time steps. In is convenient to sort it over time values.  \n",
    "(\\*4): After the previous step the numerical trajectory is in a format of a list of tuples:\n",
    "`[ (t, x, y, z, px, py, pz), ..... ]` . It is convenient to convert it into one of the `np.array` types to simplify further manipulations with it.  \n"
   ]
  },
  {
   "cell_type": "markdown",
   "metadata": {},
   "source": [
    "For analytical trajectory we need the initial position and momentum.\n",
    "They can be extracted from the first h5-file:"
   ]
  },
  {
   "cell_type": "code",
   "execution_count": null,
   "metadata": {
    "collapsed": true
   },
   "outputs": [],
   "source": [
    "def get_mass_and_initial_pos_and_mom():\n",
    "    initial_out_file = \"single_particle_free_space_0000000.h5\"\n",
    "    h5 = h5py.File( initial_out_file, mode=\"r\")\n",
    "    m = h5[\"/ParticleSources/emit_single_particle\"].attrs[\"mass\"][0]\n",
    "    x0 = h5[\"/ParticleSources/emit_single_particle/position_x\"][0]\n",
    "    y0 = h5[\"/ParticleSources/emit_single_particle/position_y\"][0]\n",
    "    z0 = h5[\"/ParticleSources/emit_single_particle/position_z\"][0]\n",
    "    px0 = h5[\"/ParticleSources/emit_single_particle/momentum_x\"][0]\n",
    "    py0 = h5[\"/ParticleSources/emit_single_particle/momentum_y\"][0]\n",
    "    pz0 = h5[\"/ParticleSources/emit_single_particle/momentum_z\"][0]\n",
    "    h5.close()\n",
    "    return( m, x0, y0, z0, px0, py0, pz0 )"
   ]
  },
  {
   "cell_type": "markdown",
   "metadata": {},
   "source": [
    "With this function, the analytical trajectory can be computed at the same \n",
    "time points as the numerical one:"
   ]
  },
  {
   "cell_type": "code",
   "execution_count": null,
   "metadata": {
    "collapsed": true
   },
   "outputs": [],
   "source": [
    "def eval_an_trajectory_at_num_time_points( num_trajectory ):\n",
    "    global particle_mass\n",
    "    particle_mass, x0, y0, z0, px0, py0, pz0 =  get_mass_and_initial_pos_and_mom()\n",
    "    #\n",
    "    an_trajectory = np.empty_like( num_trajectory )\n",
    "    for i, t in enumerate( num_trajectory['t'] ):\n",
    "        x, y, z = coords( particle_mass, t, x0, y0, z0, px0, py0, pz0 )\n",
    "        px, py, pz = momenta( t, px0, py0, pz0 )\n",
    "        an_trajectory[i] = ( t, x, y ,z, px, py, pz )\n",
    "    #\n",
    "    return( an_trajectory )"
   ]
  },
  {
   "cell_type": "markdown",
   "metadata": {},
   "source": [
    "Finally, both numerical and analytical trajectories are plotted in 3d and side views. \n",
    "Kinetic energies are also compared."
   ]
  },
  {
   "cell_type": "code",
   "execution_count": null,
   "metadata": {
    "collapsed": true
   },
   "outputs": [],
   "source": [
    "def plot_trajectories( num , an ):\n",
    "    plot_3d( num, an )\n",
    "    plot_2d( num, an )\n",
    "    plot_kin_en( num , an )"
   ]
  },
  {
   "cell_type": "markdown",
   "metadata": {},
   "source": [
    "This results in the following figures:\n",
    "    \n",
    "    _insert figs_"
   ]
  },
  {
   "cell_type": "markdown",
   "metadata": {},
   "source": [
    "It can be seen, that energy is conserved during the simulation:\n",
    "\n",
    "_insert fig_"
   ]
  },
  {
   "cell_type": "code",
   "execution_count": null,
   "metadata": {
    "collapsed": true
   },
   "outputs": [],
   "source": []
  }
 ],
 "metadata": {
  "kernelspec": {
   "display_name": "Python 3",
   "language": "python",
   "name": "python3"
  },
  "language_info": {
   "codemirror_mode": {
    "name": "ipython",
    "version": 3
   },
   "file_extension": ".py",
   "mimetype": "text/x-python",
   "name": "python",
   "nbconvert_exporter": "python",
   "pygments_lexer": "ipython3",
   "version": "3.6.6"
  }
 },
 "nbformat": 4,
 "nbformat_minor": 2
}
