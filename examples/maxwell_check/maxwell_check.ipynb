{
 "cells": [
  {
   "cell_type": "code",
   "execution_count": 2,
   "metadata": {},
   "outputs": [],
   "source": [
    "import sys\n",
    "sys.path.append('../../')\n",
    "from ef.config.visualizer import Visualizer3d\n",
    "from ef.config.efconf import EfConf\n",
    "from ef.config.components import *"
   ]
  },
  {
   "cell_type": "markdown",
   "metadata": {},
   "source": [
    "According to theory, the ion momentum distribution in the ion gas obeys the Maxwell distribution. The Maxwell distribution for discrete values has the following form:\n",
    "\\begin{equation}\n",
    "N_i = N\\  \\left(\\frac{1}{2mkT}\\right)^{3/2} p_i^2 \\ e^{-\\frac{p_i^2}{2mkT}} \\Delta p_i,\n",
    "\\end{equation}\n",
    "where $N_i$ is the expected number of particles in the single-particle microstate i, which is characterized by the momentum interval ($p_i$, $p_i + \\Delta p_i$), \n",
    "$N$ is the total number of particles in the isolated system,\n",
    "$m$ is the ion mass,\n",
    "$T$ is the equilibrium temperature of the system, $k$ is the Boltzmann constant."
   ]
  },
  {
   "cell_type": "markdown",
   "metadata": {},
   "source": [
    "To perform the simulation of the ion gas evolution, the necessary step is to create an isolated system, where our gas will be contained and come to an equilibrium. As a simple case, rigid boxlike boundaries had been implemented, that cause ions to be reflected from them."
   ]
  },
  {
   "cell_type": "markdown",
   "metadata": {},
   "source": [
    "Suppose we have an ensemble of charged particles, which have the energy $E = 1\\ eV$ and are put into the isolated system.  It's mass $m$ and charge $q$ are $q = 4.8\\cdot10^{-10}\\ [cgs]$, $m = 9.1\\cdot10^{-24}\\ [g]$. Since it's energy is nonrelativistic, it's possible to calculate it's speed simply as $v = \\sqrt{ 2 E / m } = 1.808\\cdot10^{9} ~ [cm/s]$. \n",
    "Firstly, we have to initialize the linear size of our isolated system (assuming that it will be a cube). We put our box to be the $0.004\\ [cm]$ linear scale size, which contains $N = 1000$ particles. Knowing the number of particles and the volume of the box, you can calculate the density of particles: $V = 0.004^3 [cm^3] = 6.4\\cdot 10^{-08} [cm^3],\\ n = N/V = 1.25\\cdot 10^{10} [cm^{-3}]$, where V is the volume of the box, n is the density of ions inside this box."
   ]
  },
  {
   "cell_type": "code",
   "execution_count": 6,
   "metadata": {},
   "outputs": [
    {
     "name": "stdout",
     "output_type": "stream",
     "text": [
      "q = 4.800e-10 [cgs]\n",
      "m = 1.670e-24 [g]\n",
      "E = 1.000e+00 [eV] = 1.602e-12 [erg]\n",
      "v = 1.385e+06 [cm/s]; p = 2.313e-18 [g * cm/s]\n",
      "T = 7.740e+03 [K]\n",
      "N = 8.000e+02\n",
      "box_size = 4.000e-03 x 4.000e-03 x 4.000e-03 [cm^3]\n",
      "n = 1.250e+10\n"
     ]
    }
   ],
   "source": [
    "from math import *\n",
    "\n",
    "m = 1.67e-24\n",
    "q = 4.8e-10\n",
    "print( \"q = {:.3e} [cgs]\".format( q ) )\n",
    "print( \"m = {:.3e} [g]\".format( m ) )\n",
    "\n",
    "ev_to_cgs = 1.60218e-12\n",
    "E = 1 * ev_to_cgs\n",
    "v = sqrt( 2 * E / m )\n",
    "k_B = 1.38e-16\n",
    "T = (2/3)* (E /k_B)\n",
    "print( \"E = {:.3e} [eV] = {:.3e} [erg]\".format( E / ev_to_cgs, E ) )\n",
    "print( \"v = {:.3e} [cm/s]; p = {:.3e} [g * cm/s]\".format( v, v * m ) )\n",
    "print( \"T = {:.3e} [K]\".format( T ) )\n",
    "\n",
    "N = 800\n",
    "lin_size_box = 0.004\n",
    "V = lin_size_box ** 3\n",
    "n = N / V\n",
    "print( \"N = {:.3e}\".format( N ) )\n",
    "print( \"box_size = {:.3e} x {:.3e} x {:.3e} [cm^3]\".format( lin_size_box, lin_size_box, lin_size_box ) )\n",
    "print( \"n = {:.3e}\".format( n ) )"
   ]
  },
  {
   "cell_type": "markdown",
   "metadata": {},
   "source": [
    "Suppose that particle distribution inside the box is uniform. Then we should choose the time step size $dt$ equals to the time for which a particle passes half the mean free path. That choice of the path allows us to take into account the most of collisions underwent by each particle. "
   ]
  },
  {
   "cell_type": "code",
   "execution_count": 7,
   "metadata": {},
   "outputs": [
    {
     "name": "stdout",
     "output_type": "stream",
     "text": [
      "free_path = 1.724e-06 [cm]\n",
      "dt = 6.221e-13 [s]\n"
     ]
    }
   ],
   "source": [
    "n_linear = n ** (1/3)\n",
    "free_path = lin_size_box / n_linear \n",
    "dt = free_path / v / 2\n",
    "\n",
    "print( \"free_path = {:.3e} [cm]\".format( free_path ) )\n",
    "print( \"dt = {:.3e} [s]\".format( dt ) )"
   ]
  },
  {
   "cell_type": "markdown",
   "metadata": {},
   "source": [
    "After we have completed estimation of the parameters, we will start creating our config file to perform the simulation. First, it's necessary to set a total simulation time and the time step corresponding to the above estimated value. "
   ]
  },
  {
   "cell_type": "code",
   "execution_count": 8,
   "metadata": {},
   "outputs": [
    {
     "name": "stdout",
     "output_type": "stream",
     "text": [
      "[Time grid]\n",
      "total_time = 6.221e-09\n",
      "time_save_step = 6.221e-12\n",
      "time_step_size = 6.221e-13\n",
      "\n",
      "[Spatial mesh]\n",
      "grid_x_size = 10.0\n",
      "grid_x_step = 1.0\n",
      "grid_y_size = 10.0\n",
      "grid_y_step = 1.0\n",
      "grid_z_size = 10.0\n",
      "grid_z_step = 1.0\n",
      "\n",
      "[Output filename]\n",
      "output_filename_prefix = out_\n",
      "output_filename_suffix = .h5\n",
      "\n",
      "[Boundary conditions]\n",
      "boundary_phi_right = 0.0\n",
      "boundary_phi_left = 0.0\n",
      "boundary_phi_bottom = 0.0\n",
      "boundary_phi_top = 0.0\n",
      "boundary_phi_near = 0.0\n",
      "boundary_phi_far = 0.0\n",
      "\n",
      "[Particle interaction model]\n",
      "particle_interaction_model = PIC\n",
      "\n",
      "\n"
     ]
    }
   ],
   "source": [
    "maxwell_check = EfConf()\n",
    "#vis = Visualizer3d()\n",
    "\n",
    "maxwell_check.time_grid = TimeGrid(\n",
    "    total = 6.221e-9,\n",
    "    step = 6.221e-13,\n",
    "    save_step = 6.221e-12\n",
    ")\n",
    "\n",
    "print( maxwell_check.export_to_string() )"
   ]
  },
  {
   "cell_type": "markdown",
   "metadata": {},
   "source": [
    "Then we select a spatial grid that is characterized by the size of the considered volume and sets the rigid walls at the boundaries of the spatial grid. Such walls were added to the Domain.py class."
   ]
  },
  {
   "cell_type": "code",
   "execution_count": 9,
   "metadata": {},
   "outputs": [
    {
     "name": "stdout",
     "output_type": "stream",
     "text": [
      "[Time grid]\n",
      "total_time = 6.221e-09\n",
      "time_save_step = 6.221e-12\n",
      "time_step_size = 6.221e-13\n",
      "\n",
      "[Spatial mesh]\n",
      "grid_x_size = 0.004\n",
      "grid_x_step = 0.0001\n",
      "grid_y_size = 0.004\n",
      "grid_y_step = 0.0001\n",
      "grid_z_size = 0.004\n",
      "grid_z_step = 0.0001\n",
      "\n",
      "[Output filename]\n",
      "output_filename_prefix = out_\n",
      "output_filename_suffix = .h5\n",
      "\n",
      "[Boundary conditions]\n",
      "boundary_phi_right = 0.0\n",
      "boundary_phi_left = 0.0\n",
      "boundary_phi_bottom = 0.0\n",
      "boundary_phi_top = 0.0\n",
      "boundary_phi_near = 0.0\n",
      "boundary_phi_far = 0.0\n",
      "\n",
      "[Particle interaction model]\n",
      "particle_interaction_model = PIC\n",
      "\n",
      "\n"
     ]
    }
   ],
   "source": [
    "maxwell_check.spatial_mesh = SpatialMesh(\n",
    "    size = ( 0.004, 0.004, 0.004 ),\n",
    "    step = ( 0.0001, 0.0001, 0.0001 )\n",
    ")\n",
    "\n",
    "print( maxwell_check.export_to_string() )"
   ]
  },
  {
   "cell_type": "markdown",
   "metadata": {},
   "source": [
    "Let us choose the size of the source, where the ions will appear. In accordance with the values estimated above, we choose the size of a particle source, the same as the size of a spatial grid, for uniform distribution of ions. But their initial directions of momenta in space will also be distributed uniformly, but their absolute values of momenta will be the same. Such changes were added in the ParticleSource.py class."
   ]
  },
  {
   "cell_type": "code",
   "execution_count": null,
   "metadata": {},
   "outputs": [],
   "source": [
    "maxwell_check.sources = [ \n",
    "    ParticleSource(\n",
    "        name = \"cathode_emitter\",\n",
    "        initial_particles = 1000,\n",
    "        particles_to_generate_each_step = 0,\n",
    "        #shape = Box( origin = (0.1, 0.1, 0.1), size = ( 0.01, 0.01, 0.01 ) ),\n",
    "        shape = Box( origin = (0.000, 0.000, 0.000), size = ( -0.004, 0.004, 0.004 ) ), # hack left > right error\n",
    "        momentum = ( 0.00, 0.00, 2.313e-18 ),\n",
    "        temperature = 0.0,\n",
    "        charge = 4.8e-10,\n",
    "        mass = 1.67e-24\n",
    "    )\n",
    "]\n",
    "\n",
    "print( maxwell_check.export_to_string() )"
   ]
  },
  {
   "cell_type": "markdown",
   "metadata": {},
   "source": [
    "As is well known, the determination of the Maxwell distribution in gases is due to the presence of collisions of particles inside the isolated system. Thus, we have to assume the particle interaction model with allowance for collision. But due to the high degree of rarefaction of the gas, it is possible to apply an approximation of the binary collision model in this simulation:  "
   ]
  },
  {
   "cell_type": "code",
   "execution_count": null,
   "metadata": {
    "scrolled": true
   },
   "outputs": [],
   "source": [
    "maxwell_check.particle_interaction_model = ParticleInteractionModel(\n",
    "    model = \"binary\"\n",
    ")\n",
    "\n",
    "print( maxwell_check.export_to_string() )"
   ]
  },
  {
   "cell_type": "markdown",
   "metadata": {},
   "source": [
    "The last step is to specify pattern for output file names. They will be of the form maxwell_check_0001000.h5, where 0001000 is a time step number."
   ]
  },
  {
   "cell_type": "code",
   "execution_count": 12,
   "metadata": {},
   "outputs": [
    {
     "name": "stdout",
     "output_type": "stream",
     "text": [
      "[Time grid]\n",
      "total_time = 6.221e-09\n",
      "time_save_step = 6.221e-12\n",
      "time_step_size = 6.221e-13\n",
      "\n",
      "[Spatial mesh]\n",
      "grid_x_size = 0.004\n",
      "grid_x_step = 0.0001\n",
      "grid_y_size = 0.004\n",
      "grid_y_step = 0.0001\n",
      "grid_z_size = 0.004\n",
      "grid_z_step = 0.0001\n",
      "\n",
      "[Particle_source_box.cathode_emitter]\n",
      "box_x_left = 0.004\n",
      "box_x_right = 0.0\n",
      "box_y_bottom = 0.0\n",
      "box_y_top = 0.004\n",
      "box_z_near = 0.0\n",
      "box_z_far = 0.004\n",
      "initial_number_of_particles = 1000\n",
      "particles_to_generate_each_step = 0\n",
      "mean_momentum_x = 0.0\n",
      "mean_momentum_y = 0.0\n",
      "mean_momentum_z = 2.313e-18\n",
      "temperature = 0.0\n",
      "charge = 4.8e-10\n",
      "mass = 1.67e-24\n",
      "\n",
      "[Output filename]\n",
      "output_filename_prefix = maxwell_check_\n",
      "output_filename_suffix = .h5\n",
      "\n",
      "[Boundary conditions]\n",
      "boundary_phi_right = 0.0\n",
      "boundary_phi_left = 0.0\n",
      "boundary_phi_bottom = 0.0\n",
      "boundary_phi_top = 0.0\n",
      "boundary_phi_near = 0.0\n",
      "boundary_phi_far = 0.0\n",
      "\n",
      "[Particle interaction model]\n",
      "particle_interaction_model = binary\n",
      "\n",
      "\n"
     ]
    }
   ],
   "source": [
    "maxwell_check.output_file = OutputFile(\n",
    "    prefix = \"maxwell_check_\",\n",
    "    suffix = \".h5\"\n",
    ")\n",
    "\n",
    "print( maxwell_check.export_to_string() )"
   ]
  },
  {
   "cell_type": "markdown",
   "metadata": {},
   "source": [
    "To start the simulation, the config should be provided as an argument to the main.py. \n",
    "Note: before starting the simulation, make sure that all necessary packages (scipy, numpy, etc.) are already installed. "
   ]
  },
  {
   "cell_type": "code",
   "execution_count": null,
   "metadata": {},
   "outputs": [
    {
     "name": "stdout",
     "output_type": "stream",
     "text": [
      "command: python3 ../../main.py /tmp/tmp0lmq0dil.ini\n",
      "b'Config file is:  /tmp/tmp0lmq0dil.ini'\n",
      "b'[ Time grid ]'\n",
      "b'total_time = 6.221e-09'\n",
      "b'time_save_step = 6.221e-12'\n",
      "b'time_step_size = 6.221e-13'\n",
      "b'[ Spatial mesh ]'\n",
      "b'grid_x_size = 0.004'\n",
      "b'grid_x_step = 0.0001'\n",
      "b'grid_y_size = 0.004'\n",
      "b'grid_y_step = 0.0001'\n",
      "b'grid_z_size = 0.004'\n",
      "b'grid_z_step = 0.0001'\n",
      "b'[ Particle_source_box.cathode_emitter ]'\n",
      "b'box_x_left = 0.004'\n",
      "b'box_x_right = 0.0'\n",
      "b'box_y_bottom = 0.0'\n",
      "b'box_y_top = 0.004'\n",
      "b'box_z_near = 0.0'\n",
      "b'box_z_far = 0.004'\n",
      "b'initial_number_of_particles = 1000'\n",
      "b'particles_to_generate_each_step = 0'\n",
      "b'mean_momentum_x = 0.0'\n",
      "b'mean_momentum_y = 0.0'\n",
      "b'mean_momentum_z = 2.313e-18'\n",
      "b'temperature = 0.0'\n",
      "b'charge = 4.8e-10'\n",
      "b'mass = 1.67e-24'\n",
      "b'[ Output filename ]'\n",
      "b'output_filename_prefix = maxwell_check_'\n",
      "b'output_filename_suffix = .h5'\n",
      "b'[ Boundary conditions ]'\n",
      "b'boundary_phi_right = 0.0'\n",
      "b'boundary_phi_left = 0.0'\n",
      "b'boundary_phi_bottom = 0.0'\n",
      "b'boundary_phi_top = 0.0'\n",
      "b'boundary_phi_near = 0.0'\n",
      "b'boundary_phi_far = 0.0'\n",
      "b'[ Particle interaction model ]'\n",
      "b'particle_interaction_model = binary'\n",
      "b'Time step was shrinked to 6.221E-13 from 6.221E-13  to fit round number of cells.'\n",
      "b'Time save step was shrinked to 6.221E-12 from 6.221E-12 to be a multiple of time step.'\n",
      "b'Error:  box_x_left > box_x_right'\n"
     ]
    }
   ],
   "source": [
    "from ef.util.runner import EfRunner\n",
    "\n",
    "\n",
    "runner = EfRunner( conf = maxwell_check, ef_command=\"python3 ../../main.py\" )\n",
    "runner.run()"
   ]
  },
  {
   "cell_type": "markdown",
   "metadata": {},
   "source": [
    "After the procedure of simulation completes, the corresponding *.h5 will emerge in the directory. To visualize the result obtained during the simulation, we need to extract the momenta of all the ions and make a histogram of momentum in comparison with a theoretical maxwell distribution:"
   ]
  },
  {
   "cell_type": "code",
   "execution_count": null,
   "metadata": {},
   "outputs": [],
   "source": [
    "import os, glob\n",
    "import h5py\n",
    "import numpy as np\n",
    "import matplotlib.pyplot as plt\n",
    "import math\n",
    "from mpl_toolkits.mplot3d import Axes3D\n",
    "\n",
    "def main():\n",
    "    filename = 'maxwell_check_0010000.h5'\n",
    "    h5 = h5py.File(filename, mode=\"r\")\n",
    "    start_x, end_x, start_y, end_y, start_z, end_z = get_source_geometry(h5)         #(*1)\n",
    "    \n",
    "    m = 1.67e-24\n",
    "    T = 7.740e+03\n",
    "    N = 1000\n",
    "    k_B = 1.38e-16\n",
    "    dN, p_grid, p = analyt_maxwell_distrib(N, T, h5)                                 #(*2)\n",
    "    p_sim_av = np.mean(p)\n",
    "\n",
    "    p_average = (8*m*k_B*T/math.pi) ** (1/2)                                         #(*3)\n",
    "    p_mst_prob = (2*m*k_B*T) ** (1/2)                                                #(*4)\n",
    "    print( \"p_sim_av = {:.3e} [cm/s]\".format( p_sim_av ) )                           #(*5)     \n",
    "    print( \"p_theor_average = {:.3e} [cm/s]\".format( p_average ) )                   #(*6)    \n",
    "    plt.figure()\n",
    "    plt.hist(p_end,20)\n",
    "    plt.plot(p_grid, dN)\n",
    "    plt.xlim(0, p_end.max())"
   ]
  },
  {
   "cell_type": "markdown",
   "metadata": {},
   "source": [
    "(*1) The extraction of source geometry:"
   ]
  },
  {
   "cell_type": "code",
   "execution_count": null,
   "metadata": {},
   "outputs": [],
   "source": [
    "def get_source_geometry(h5file):\n",
    "    start_y = h5file[\"/Particle_sources/cathode_emitter\"].attrs[\"box_y_top\"]\n",
    "    end_y = h5file[\"/Particle_sources/cathode_emitter\"].attrs[\"box_y_bottom\"]\n",
    "    start_x = h5file[\"/Particle_sources/cathode_emitter\"].attrs[\"box_x_left\"]\n",
    "    end_x = h5file[\"/Particle_sources/cathode_emitter\"].attrs[\"box_x_right\"]\n",
    "    start_z = h5file[\"/Particle_sources/cathode_emitter\"].attrs[\"box_z_near\"]\n",
    "    end_z = h5file[\"/Particle_sources/cathode_emitter\"].attrs[\"box_z_far\"]\n",
    "    return start_x, end_x, start_y, end_y, start_z, end_z"
   ]
  },
  {
   "cell_type": "markdown",
   "metadata": {},
   "source": [
    "(*2) Obtaining an analytical representation of the Maxwell distribution for the number of particles equal to $ N $ with an extraction of absolute values of momenta for each simulated particle after a time step corresponding to the \"filename\"."
   ]
  },
  {
   "cell_type": "code",
   "execution_count": null,
   "metadata": {},
   "outputs": [],
   "source": [
    "def analyt_maxwell_distrib(num_particles, temperature, h5file):\n",
    "    p_xend = h5file[\"/Particle_sources/cathode_emitter/momentum_x\"][:]\n",
    "    p_yend = h5file[\"/Particle_sources/cathode_emitter/momentum_y\"][:]\n",
    "    p_zend = h5file[\"/Particle_sources/cathode_emitter/momentum_z\"][:]\n",
    "    mass = h5file[\"/Particle_sources/cathode_emitter\"].attrs[\"mass\"]\n",
    "    kB = 1.38e-16\n",
    "\n",
    "    p = (p_xend ** 2 + p_yend ** 2 + p_zend ** 2) ** (1/2)\n",
    "\n",
    "    p_grid = np.arange(0.0, p.max(), (p.max() - p.min())/150)\n",
    "    p_grid_1 = p_grid[1:]\n",
    "    dp = p_grid_1 - p_grid[0:len(p_grid)-1]\n",
    "\n",
    "    p_average = (8*m*k_B*T/math.pi) ** (1/2)                                         #(*3)\n",
    "    p_mst_prob = (2*m*k_B*T) ** (1/2)                                                #(*4)\n",
    "    \n",
    "    distr = 4*math.pi* (1/(2*math.pi*mass*kB*temperature)) ** (3/2) * (p_grid[1:] ** 2) * np.exp(-1* (p_grid[1:] ** 2) /(2*kB*mass*temperature))*dp\n",
    "    dN = num_particles * distr\n",
    "\n",
    "    return dN, p_grid[1:], p"
   ]
  },
  {
   "cell_type": "markdown",
   "metadata": {},
   "source": [
    "(*3, *4) The typical values of average and most probable momenta respectively. To remind, such values are calculated by the following formulas: \n",
    "\n",
    "\\begin{eqnarray}\n",
    "    \\left< p \\right> = \\sqrt{\\frac{8mkT}{\\pi}} \\hspace{3em} p_p = \\sqrt{2mkT}\n",
    "\\end{eqnarray}"
   ]
  },
  {
   "cell_type": "markdown",
   "metadata": {},
   "source": [
    "If you track changes in the particle distribution as a function of momenta, you will see that over time the resulting distribution approaches to the theoretical distribution. Moreover the typical values of the ion gas have to tend to the theoretical values. It is suggested to compare the obtained values by the simulation with theoretical values (*5,*6)"
   ]
  },
  {
   "cell_type": "code",
   "execution_count": null,
   "metadata": {},
   "outputs": [],
   "source": []
  }
 ],
 "metadata": {
  "kernelspec": {
   "display_name": "Python 3",
   "language": "python",
   "name": "python3"
  },
  "language_info": {
   "codemirror_mode": {
    "name": "ipython",
    "version": 3
   },
   "file_extension": ".py",
   "mimetype": "text/x-python",
   "name": "python",
   "nbconvert_exporter": "python",
   "pygments_lexer": "ipython3",
   "version": "3.5.2"
  }
 },
 "nbformat": 4,
 "nbformat_minor": 2
}
