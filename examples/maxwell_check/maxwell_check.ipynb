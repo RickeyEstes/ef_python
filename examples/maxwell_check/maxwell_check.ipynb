{
 "cells": [
  {
   "cell_type": "code",
   "execution_count": 13,
   "metadata": {},
   "outputs": [],
   "source": [
    "import sys\n",
    "sys.path.append('../../')\n",
    "from ef.config.visualizer import Visualizer3d\n",
    "from ef.config.efconf import EfConf\n",
    "from ef.config.components import *"
   ]
  },
  {
   "cell_type": "markdown",
   "metadata": {},
   "source": [
    "According to theory, the ion momentum distribution in the ion gas obeys the Maxwell distribution. The Maxwell distribution for discrete values has the following form:\n",
    "\\begin{equation}\n",
    "\\frac{N_i}{N} =  \\left(\\frac{1}{2mkT}\\right)^{3/2} p_i^2 \\ e^{-\\frac{p_i^2}{2mkT}},\n",
    "\\end{equation}\n",
    "where $N_i$ is the expected number of particles in the single-particle microstate i, which is characterized by the momentum interval $p_i$, \n",
    "$N$ is the total number of particles in the isolated system,\n",
    "$m$ is the ion mass,\n",
    "$T$ is the equilibrium temperature of the system, $k$ is the Boltzmann constant."
   ]
  },
  {
   "cell_type": "markdown",
   "metadata": {},
   "source": [
    "To perform the simulation of the ion gas evolution, the necessary step is to create an isolated system, where our gas will be contained and come to an equilibrium. As a simple case, rigid boxlike boundaries had been implemented, that cause ions to be reflected from them."
   ]
  },
  {
   "cell_type": "markdown",
   "metadata": {},
   "source": [
    "Suppose we have an ensemble of charged particles, which have the energy $E = 1\\ eV$ and are put into the isolated system.  It's mass $m$ and charge $q$ are $q = 4.8\\cdot10^{-8}\\ [cgs]$, $m = 9.1\\cdot10^{-22}\\ [g]$. Since it's energy is nonrelativistic, it's possible to calculate it's speed simply as $v = \\sqrt{ 2 E / m } = 1.385\\cdot10^{5} ~ [cm/s]$. \n",
    "Firstly, we have to initialize the linear size of our isolated system (assuming that it will be a cube). We put our box to be the $0.04\\ [cm]$ linear scale size, which contains $N = 100$ particles. Knowing the number of particles and the volume of the box, you can calculate the density of particles: $V = 0.00^3 \\ \\ [cm^3] = 6.4\\cdot 10^{-5}\\ \\ [cm^3],\\ n = N/V = 1.25\\cdot 10^{6}\\ \\ [cm^{-3}]$, where V is the volume of the box, n is the density of ions inside this box."
   ]
  },
  {
   "cell_type": "code",
   "execution_count": 10,
   "metadata": {},
   "outputs": [
    {
     "name": "stdout",
     "output_type": "stream",
     "text": [
      "q = 4.800e-08 [cgs]\n",
      "m = 1.670e-22 [g]\n",
      "E = 1.000e+00 [eV] = 1.602e-12 [erg]\n",
      "v = 1.385e+05 [cm/s]; p = 2.313e-17 [g * cm/s]\n",
      "T = 7.740e+03 [K]\n",
      "N = 1.000e+02\n",
      "box_size = 4.000e-02 x 4.000e-02 x 4.000e-02 [cm^3]\n",
      "n = 1.562e+06\n"
     ]
    }
   ],
   "source": [
    "from math import *\n",
    "\n",
    "m = 1.67e-22\n",
    "q = 4.8e-8\n",
    "print( \"q = {:.3e} [cgs]\".format( q ) )\n",
    "print( \"m = {:.3e} [g]\".format( m ) )\n",
    "\n",
    "ev_to_cgs = 1.60218e-12\n",
    "E = 1 * ev_to_cgs\n",
    "v = sqrt( 2 * E / m )\n",
    "k_B = 1.38e-16\n",
    "T = (2/3)* (E /k_B)\n",
    "print( \"E = {:.3e} [eV] = {:.3e} [erg]\".format( E / ev_to_cgs, E ) )\n",
    "print( \"v = {:.3e} [cm/s]; p = {:.3e} [g * cm/s]\".format( v, v * m ) )\n",
    "print( \"T = {:.3e} [K]\".format( T ) )\n",
    "\n",
    "N = 100\n",
    "lin_size_box = 0.04\n",
    "V = lin_size_box ** 3\n",
    "n = N / V\n",
    "print( \"N = {:.3e}\".format( N ) )\n",
    "print( \"box_size = {:.3e} x {:.3e} x {:.3e} [cm^3]\".format( lin_size_box, lin_size_box, lin_size_box ) )\n",
    "print( \"n = {:.3e}\".format( n ) )"
   ]
  },
  {
   "cell_type": "markdown",
   "metadata": {},
   "source": [
    "Suppose that particle distribution inside the box is uniform. Then we should choose the time step size $dt$ equals to the time for which a particle passes one tenth part the mean free path. That choice of the path allows us to take into account the most of collisions underwent by each particle. "
   ]
  },
  {
   "cell_type": "code",
   "execution_count": 14,
   "metadata": {},
   "outputs": [
    {
     "name": "stdout",
     "output_type": "stream",
     "text": [
      "free_path = 3.447e-04 [cm]\n",
      "dt = 2.489e-10 [s]\n"
     ]
    }
   ],
   "source": [
    "n_linear = n ** (1/3)\n",
    "free_path = lin_size_box / n_linear \n",
    "dt = free_path / v / 10\n",
    "\n",
    "print( \"free_path = {:.3e} [cm]\".format( free_path ) )\n",
    "print( \"dt = {:.3e} [s]\".format( dt ) )"
   ]
  },
  {
   "cell_type": "markdown",
   "metadata": {},
   "source": [
    "After we have completed estimation of the parameters, we will start creating our config file to perform the simulation. First, it's necessary to set a total simulation time and the time step corresponding to the above estimated value. "
   ]
  },
  {
   "cell_type": "code",
   "execution_count": 15,
   "metadata": {},
   "outputs": [
    {
     "name": "stdout",
     "output_type": "stream",
     "text": [
      "[Time grid]\n",
      "total_time = 2.489e-06\n",
      "time_save_step = 2.489e-09\n",
      "time_step_size = 2.489e-10\n",
      "\n",
      "[Spatial mesh]\n",
      "grid_x_size = 10.0\n",
      "grid_x_step = 1.0\n",
      "grid_y_size = 10.0\n",
      "grid_y_step = 1.0\n",
      "grid_z_size = 10.0\n",
      "grid_z_step = 1.0\n",
      "\n",
      "[Output filename]\n",
      "output_filename_prefix = out_\n",
      "output_filename_suffix = .h5\n",
      "\n",
      "[Boundary conditions]\n",
      "boundary_phi_right = 0.0\n",
      "boundary_phi_left = 0.0\n",
      "boundary_phi_bottom = 0.0\n",
      "boundary_phi_top = 0.0\n",
      "boundary_phi_near = 0.0\n",
      "boundary_phi_far = 0.0\n",
      "\n",
      "[Particle interaction model]\n",
      "particle_interaction_model = PIC\n",
      "\n",
      "\n"
     ]
    }
   ],
   "source": [
    "maxwell_check = EfConf()\n",
    "#vis = Visualizer3d()\n",
    "\n",
    "maxwell_check.time_grid = TimeGrid(\n",
    "    total = 2.489e-6,\n",
    "    step = 2.489e-10,\n",
    "    save_step = 2.489e-9\n",
    ")\n",
    "\n",
    "print( maxwell_check.export_to_string() )"
   ]
  },
  {
   "cell_type": "markdown",
   "metadata": {},
   "source": [
    "Then we select a spatial grid that is characterized by the size of the considered volume and sets the rigid walls at the boundaries of the spatial grid. Such walls were added to the Domain.py class."
   ]
  },
  {
   "cell_type": "code",
   "execution_count": 16,
   "metadata": {},
   "outputs": [
    {
     "name": "stdout",
     "output_type": "stream",
     "text": [
      "[Time grid]\n",
      "total_time = 2.489e-06\n",
      "time_save_step = 2.489e-09\n",
      "time_step_size = 2.489e-10\n",
      "\n",
      "[Spatial mesh]\n",
      "grid_x_size = 0.04\n",
      "grid_x_step = 0.001\n",
      "grid_y_size = 0.04\n",
      "grid_y_step = 0.001\n",
      "grid_z_size = 0.04\n",
      "grid_z_step = 0.001\n",
      "\n",
      "[Output filename]\n",
      "output_filename_prefix = out_\n",
      "output_filename_suffix = .h5\n",
      "\n",
      "[Boundary conditions]\n",
      "boundary_phi_right = 0.0\n",
      "boundary_phi_left = 0.0\n",
      "boundary_phi_bottom = 0.0\n",
      "boundary_phi_top = 0.0\n",
      "boundary_phi_near = 0.0\n",
      "boundary_phi_far = 0.0\n",
      "\n",
      "[Particle interaction model]\n",
      "particle_interaction_model = PIC\n",
      "\n",
      "\n"
     ]
    }
   ],
   "source": [
    "maxwell_check.spatial_mesh = SpatialMesh(\n",
    "    size = ( 0.04, 0.04, 0.04 ),\n",
    "    step = ( 0.001, 0.001, 0.001 )\n",
    ")\n",
    "\n",
    "print( maxwell_check.export_to_string() )"
   ]
  },
  {
   "cell_type": "markdown",
   "metadata": {},
   "source": [
    "Let us choose the size of the source, where the ions will appear. In accordance with the values estimated above, we choose the size of a particle source, the same as the size of a spatial grid, for uniform distribution of ions. But their initial directions of momenta in space will also be distributed uniformly, but their absolute values of momenta will be the same. Such changes were added in the ParticleSource.py class."
   ]
  },
  {
   "cell_type": "code",
   "execution_count": 17,
   "metadata": {},
   "outputs": [
    {
     "name": "stdout",
     "output_type": "stream",
     "text": [
      "[Time grid]\n",
      "total_time = 2.489e-06\n",
      "time_save_step = 2.489e-09\n",
      "time_step_size = 2.489e-10\n",
      "\n",
      "[Spatial mesh]\n",
      "grid_x_size = 0.04\n",
      "grid_x_step = 0.001\n",
      "grid_y_size = 0.04\n",
      "grid_y_step = 0.001\n",
      "grid_z_size = 0.04\n",
      "grid_z_step = 0.001\n",
      "\n",
      "[Particle_source_box.cathode_emitter]\n",
      "box_x_left = 0.0\n",
      "box_x_right = 0.04\n",
      "box_y_bottom = 0.0\n",
      "box_y_top = 0.04\n",
      "box_z_near = 0.0\n",
      "box_z_far = 0.04\n",
      "initial_number_of_particles = 100\n",
      "particles_to_generate_each_step = 0\n",
      "mean_momentum_x = 0.0\n",
      "mean_momentum_y = 0.0\n",
      "mean_momentum_z = 2.313e-17\n",
      "temperature = 0.0\n",
      "charge = 4.8e-08\n",
      "mass = 1.67e-22\n",
      "\n",
      "[Output filename]\n",
      "output_filename_prefix = out_\n",
      "output_filename_suffix = .h5\n",
      "\n",
      "[Boundary conditions]\n",
      "boundary_phi_right = 0.0\n",
      "boundary_phi_left = 0.0\n",
      "boundary_phi_bottom = 0.0\n",
      "boundary_phi_top = 0.0\n",
      "boundary_phi_near = 0.0\n",
      "boundary_phi_far = 0.0\n",
      "\n",
      "[Particle interaction model]\n",
      "particle_interaction_model = PIC\n",
      "\n",
      "\n"
     ]
    }
   ],
   "source": [
    "maxwell_check.sources = [ \n",
    "    ParticleSource(\n",
    "        name = \"cathode_emitter\",\n",
    "        initial_particles = 100,\n",
    "        particles_to_generate_each_step = 0,\n",
    "        #shape = Box( origin = (0.1, 0.1, 0.1), size = ( 0.01, 0.01, 0.01 ) ),\n",
    "        shape = Box( origin = (0.04, 0.000, 0.000), size = ( -0.04, 0.04, 0.04 ) ), # hack left > right error\n",
    "        momentum = ( 0.00, 0.00, 2.313e-17 ),\n",
    "        temperature = 0.0,\n",
    "        charge = 4.8e-08,\n",
    "        mass = 1.67e-22\n",
    "    )\n",
    "]\n",
    "\n",
    "print( maxwell_check.export_to_string() )"
   ]
  },
  {
   "cell_type": "markdown",
   "metadata": {},
   "source": [
    "As is well known, the determination of the Maxwell distribution in gases is due to the presence of collisions of particles inside the isolated system. Thus, we have to assume the particle interaction model with allowance for collision. But due to the high degree of rarefaction of the gas, it is possible to apply an approximation of the binary collision model in this simulation:  "
   ]
  },
  {
   "cell_type": "code",
   "execution_count": 18,
   "metadata": {
    "scrolled": true
   },
   "outputs": [
    {
     "name": "stdout",
     "output_type": "stream",
     "text": [
      "[Time grid]\n",
      "total_time = 2.489e-06\n",
      "time_save_step = 2.489e-09\n",
      "time_step_size = 2.489e-10\n",
      "\n",
      "[Spatial mesh]\n",
      "grid_x_size = 0.04\n",
      "grid_x_step = 0.001\n",
      "grid_y_size = 0.04\n",
      "grid_y_step = 0.001\n",
      "grid_z_size = 0.04\n",
      "grid_z_step = 0.001\n",
      "\n",
      "[Particle_source_box.cathode_emitter]\n",
      "box_x_left = 0.0\n",
      "box_x_right = 0.04\n",
      "box_y_bottom = 0.0\n",
      "box_y_top = 0.04\n",
      "box_z_near = 0.0\n",
      "box_z_far = 0.04\n",
      "initial_number_of_particles = 100\n",
      "particles_to_generate_each_step = 0\n",
      "mean_momentum_x = 0.0\n",
      "mean_momentum_y = 0.0\n",
      "mean_momentum_z = 2.313e-17\n",
      "temperature = 0.0\n",
      "charge = 4.8e-08\n",
      "mass = 1.67e-22\n",
      "\n",
      "[Output filename]\n",
      "output_filename_prefix = out_\n",
      "output_filename_suffix = .h5\n",
      "\n",
      "[Boundary conditions]\n",
      "boundary_phi_right = 0.0\n",
      "boundary_phi_left = 0.0\n",
      "boundary_phi_bottom = 0.0\n",
      "boundary_phi_top = 0.0\n",
      "boundary_phi_near = 0.0\n",
      "boundary_phi_far = 0.0\n",
      "\n",
      "[Particle interaction model]\n",
      "particle_interaction_model = binary\n",
      "\n",
      "\n"
     ]
    }
   ],
   "source": [
    "maxwell_check.particle_interaction_model = ParticleInteractionModel(\n",
    "    model = \"binary\"\n",
    ")\n",
    "\n",
    "print( maxwell_check.export_to_string() )"
   ]
  },
  {
   "cell_type": "markdown",
   "metadata": {},
   "source": [
    "The last step is to specify pattern for output file names. They will be of the form maxwell_check_0001000.h5, where 0001000 is a time step number."
   ]
  },
  {
   "cell_type": "code",
   "execution_count": 19,
   "metadata": {},
   "outputs": [
    {
     "name": "stdout",
     "output_type": "stream",
     "text": [
      "[Time grid]\n",
      "total_time = 2.489e-06\n",
      "time_save_step = 2.489e-09\n",
      "time_step_size = 2.489e-10\n",
      "\n",
      "[Spatial mesh]\n",
      "grid_x_size = 0.04\n",
      "grid_x_step = 0.001\n",
      "grid_y_size = 0.04\n",
      "grid_y_step = 0.001\n",
      "grid_z_size = 0.04\n",
      "grid_z_step = 0.001\n",
      "\n",
      "[Particle_source_box.cathode_emitter]\n",
      "box_x_left = 0.0\n",
      "box_x_right = 0.04\n",
      "box_y_bottom = 0.0\n",
      "box_y_top = 0.04\n",
      "box_z_near = 0.0\n",
      "box_z_far = 0.04\n",
      "initial_number_of_particles = 100\n",
      "particles_to_generate_each_step = 0\n",
      "mean_momentum_x = 0.0\n",
      "mean_momentum_y = 0.0\n",
      "mean_momentum_z = 2.313e-17\n",
      "temperature = 0.0\n",
      "charge = 4.8e-08\n",
      "mass = 1.67e-22\n",
      "\n",
      "[Output filename]\n",
      "output_filename_prefix = maxwell_check_\n",
      "output_filename_suffix = .h5\n",
      "\n",
      "[Boundary conditions]\n",
      "boundary_phi_right = 0.0\n",
      "boundary_phi_left = 0.0\n",
      "boundary_phi_bottom = 0.0\n",
      "boundary_phi_top = 0.0\n",
      "boundary_phi_near = 0.0\n",
      "boundary_phi_far = 0.0\n",
      "\n",
      "[Particle interaction model]\n",
      "particle_interaction_model = binary\n",
      "\n",
      "\n"
     ]
    }
   ],
   "source": [
    "maxwell_check.output_file = OutputFile(\n",
    "    prefix = \"maxwell_check_\",\n",
    "    suffix = \".h5\"\n",
    ")\n",
    "\n",
    "print( maxwell_check.export_to_string() )"
   ]
  },
  {
   "cell_type": "markdown",
   "metadata": {},
   "source": [
    "To start the simulation, the config should be provided as an argument to the main.py. \n",
    "Note: before starting the simulation, make sure that all necessary packages (scipy, numpy, etc.) are already installed. "
   ]
  },
  {
   "cell_type": "code",
   "execution_count": 20,
   "metadata": {},
   "outputs": [
    {
     "name": "stdout",
     "output_type": "stream",
     "text": [
      "command: python3 ../../main.py /tmp/tmpg_yvsfx7.ini\n"
     ]
    },
    {
     "ename": "KeyboardInterrupt",
     "evalue": "",
     "output_type": "error",
     "traceback": [
      "\u001b[0;31m---------------------------------------------------------------------------\u001b[0m",
      "\u001b[0;31mKeyboardInterrupt\u001b[0m                         Traceback (most recent call last)",
      "\u001b[0;32m<ipython-input-20-ad35dcaf120e>\u001b[0m in \u001b[0;36m<module>\u001b[0;34m()\u001b[0m\n\u001b[1;32m      3\u001b[0m \u001b[0;34m\u001b[0m\u001b[0m\n\u001b[1;32m      4\u001b[0m \u001b[0mrunner\u001b[0m \u001b[0;34m=\u001b[0m \u001b[0mEfRunner\u001b[0m\u001b[0;34m(\u001b[0m \u001b[0mconf\u001b[0m \u001b[0;34m=\u001b[0m \u001b[0mmaxwell_check\u001b[0m\u001b[0;34m,\u001b[0m \u001b[0mef_command\u001b[0m\u001b[0;34m=\u001b[0m\u001b[0;34m\"python3 ../../main.py\"\u001b[0m \u001b[0;34m)\u001b[0m\u001b[0;34m\u001b[0m\u001b[0m\n\u001b[0;32m----> 5\u001b[0;31m \u001b[0mrunner\u001b[0m\u001b[0;34m.\u001b[0m\u001b[0mrun\u001b[0m\u001b[0;34m(\u001b[0m\u001b[0;34m)\u001b[0m\u001b[0;34m\u001b[0m\u001b[0m\n\u001b[0m",
      "\u001b[0;32m~/PycharmProjects/ef_python-maxwell-check/ef/util/runner.py\u001b[0m in \u001b[0;36mrun\u001b[0;34m(self, workdir, save_config_as)\u001b[0m\n\u001b[1;32m     24\u001b[0m             \u001b[0mconfig_fname\u001b[0m \u001b[0;34m=\u001b[0m \u001b[0msave_config_as\u001b[0m\u001b[0;34m\u001b[0m\u001b[0m\n\u001b[1;32m     25\u001b[0m             \u001b[0mconfig_file\u001b[0m \u001b[0;34m=\u001b[0m \u001b[0mopen\u001b[0m\u001b[0;34m(\u001b[0m\u001b[0mconfig_fname\u001b[0m\u001b[0;34m,\u001b[0m \u001b[0;34m'w'\u001b[0m\u001b[0;34m)\u001b[0m\u001b[0;34m\u001b[0m\u001b[0m\n\u001b[0;32m---> 26\u001b[0;31m         \u001b[0mself\u001b[0m\u001b[0;34m.\u001b[0m\u001b[0m_configure_and_run\u001b[0m\u001b[0;34m(\u001b[0m\u001b[0mworkdir\u001b[0m\u001b[0;34m,\u001b[0m \u001b[0mconfig_fname\u001b[0m\u001b[0;34m,\u001b[0m \u001b[0mconfig_file\u001b[0m\u001b[0;34m)\u001b[0m\u001b[0;34m\u001b[0m\u001b[0m\n\u001b[0m\u001b[1;32m     27\u001b[0m         \u001b[0;32mif\u001b[0m \u001b[0msave_config_as\u001b[0m \u001b[0;32mis\u001b[0m \u001b[0;32mNone\u001b[0m\u001b[0;34m:\u001b[0m\u001b[0;34m\u001b[0m\u001b[0m\n\u001b[1;32m     28\u001b[0m             \u001b[0mos\u001b[0m\u001b[0;34m.\u001b[0m\u001b[0mremove\u001b[0m\u001b[0;34m(\u001b[0m\u001b[0mconfig_fname\u001b[0m\u001b[0;34m)\u001b[0m\u001b[0;34m\u001b[0m\u001b[0m\n",
      "\u001b[0;32m~/PycharmProjects/ef_python-maxwell-check/ef/util/runner.py\u001b[0m in \u001b[0;36m_configure_and_run\u001b[0;34m(self, workdir, config_fname, config_file)\u001b[0m\n\u001b[1;32m     15\u001b[0m         \u001b[0mself\u001b[0m\u001b[0;34m.\u001b[0m\u001b[0mconf\u001b[0m\u001b[0;34m.\u001b[0m\u001b[0mexport_to_file\u001b[0m\u001b[0;34m(\u001b[0m\u001b[0mconfig_file\u001b[0m\u001b[0;34m)\u001b[0m\u001b[0;34m\u001b[0m\u001b[0m\n\u001b[1;32m     16\u001b[0m         \u001b[0mconfig_file\u001b[0m\u001b[0;34m.\u001b[0m\u001b[0mclose\u001b[0m\u001b[0;34m(\u001b[0m\u001b[0;34m)\u001b[0m\u001b[0;34m\u001b[0m\u001b[0m\n\u001b[0;32m---> 17\u001b[0;31m         \u001b[0mself\u001b[0m\u001b[0;34m.\u001b[0m\u001b[0mrun_from_file\u001b[0m\u001b[0;34m(\u001b[0m\u001b[0mconfig_fname\u001b[0m\u001b[0;34m,\u001b[0m \u001b[0mworkdir\u001b[0m\u001b[0;34m)\u001b[0m\u001b[0;34m\u001b[0m\u001b[0m\n\u001b[0m\u001b[1;32m     18\u001b[0m \u001b[0;34m\u001b[0m\u001b[0m\n\u001b[1;32m     19\u001b[0m     \u001b[0;32mdef\u001b[0m \u001b[0mrun\u001b[0m\u001b[0;34m(\u001b[0m\u001b[0mself\u001b[0m\u001b[0;34m,\u001b[0m \u001b[0mworkdir\u001b[0m\u001b[0;34m=\u001b[0m\u001b[0;34m\"./\"\u001b[0m\u001b[0;34m,\u001b[0m \u001b[0msave_config_as\u001b[0m\u001b[0;34m=\u001b[0m\u001b[0;32mNone\u001b[0m\u001b[0;34m)\u001b[0m\u001b[0;34m:\u001b[0m\u001b[0;34m\u001b[0m\u001b[0m\n",
      "\u001b[0;32m~/PycharmProjects/ef_python-maxwell-check/ef/util/runner.py\u001b[0m in \u001b[0;36mrun_from_file\u001b[0;34m(self, startfile, workdir)\u001b[0m\n\u001b[1;32m     36\u001b[0m         \u001b[0mprocess\u001b[0m \u001b[0;34m=\u001b[0m \u001b[0msubprocess\u001b[0m\u001b[0;34m.\u001b[0m\u001b[0mPopen\u001b[0m\u001b[0;34m(\u001b[0m\u001b[0mshlex\u001b[0m\u001b[0;34m.\u001b[0m\u001b[0msplit\u001b[0m\u001b[0;34m(\u001b[0m\u001b[0mcommand\u001b[0m\u001b[0;34m)\u001b[0m\u001b[0;34m,\u001b[0m \u001b[0mstdout\u001b[0m\u001b[0;34m=\u001b[0m\u001b[0msubprocess\u001b[0m\u001b[0;34m.\u001b[0m\u001b[0mPIPE\u001b[0m\u001b[0;34m)\u001b[0m\u001b[0;34m\u001b[0m\u001b[0m\n\u001b[1;32m     37\u001b[0m         \u001b[0;32mwhile\u001b[0m \u001b[0;32mTrue\u001b[0m\u001b[0;34m:\u001b[0m\u001b[0;34m\u001b[0m\u001b[0m\n\u001b[0;32m---> 38\u001b[0;31m             \u001b[0moutput\u001b[0m \u001b[0;34m=\u001b[0m \u001b[0mprocess\u001b[0m\u001b[0;34m.\u001b[0m\u001b[0mstdout\u001b[0m\u001b[0;34m.\u001b[0m\u001b[0mreadline\u001b[0m\u001b[0;34m(\u001b[0m\u001b[0;34m)\u001b[0m\u001b[0;34m\u001b[0m\u001b[0m\n\u001b[0m\u001b[1;32m     39\u001b[0m             \u001b[0;32mif\u001b[0m \u001b[0moutput\u001b[0m \u001b[0;34m==\u001b[0m \u001b[0;34m''\u001b[0m \u001b[0;32mand\u001b[0m \u001b[0mprocess\u001b[0m\u001b[0;34m.\u001b[0m\u001b[0mpoll\u001b[0m\u001b[0;34m(\u001b[0m\u001b[0;34m)\u001b[0m \u001b[0;32mis\u001b[0m \u001b[0;32mnot\u001b[0m \u001b[0;32mNone\u001b[0m\u001b[0;34m:\u001b[0m\u001b[0;34m\u001b[0m\u001b[0m\n\u001b[1;32m     40\u001b[0m                 \u001b[0;32mbreak\u001b[0m\u001b[0;34m\u001b[0m\u001b[0m\n",
      "\u001b[0;31mKeyboardInterrupt\u001b[0m: "
     ]
    }
   ],
   "source": [
    "from ef.util.runner import EfRunner\n",
    "\n",
    "\n",
    "runner = EfRunner( conf = maxwell_check, ef_command=\"python3 ../../main.py\" )\n",
    "runner.run()"
   ]
  },
  {
   "cell_type": "markdown",
   "metadata": {},
   "source": [
    "After the procedure of simulation completes, the corresponding *.h5 will emerge in the directory. To visualize the result obtained during the simulation, we need to extract the momenta of all the ions and make a histogram of momentum in comparison with a theoretical maxwell distribution. The function below extracts three projections of all electronic momenta after a time step corresponding to the \"filename\" (*1), and then calculates their absolute value and the probability density function with the corresponding macro parameters:"
   ]
  },
  {
   "cell_type": "code",
   "execution_count": 3,
   "metadata": {},
   "outputs": [],
   "source": [
    "def analyt_maxwell_distrib(num_particles, temperature, mass, k_B, h5file):                     #(*1)\n",
    "    p_xend = h5file[\"/Particle_sources/cathode_emitter/momentum_x\"][:]\n",
    "    p_yend = h5file[\"/Particle_sources/cathode_emitter/momentum_y\"][:]\n",
    "    p_zend = h5file[\"/Particle_sources/cathode_emitter/momentum_z\"][:]\n",
    "\n",
    "    p = (p_xend ** 2 + p_yend ** 2 + p_zend ** 2) ** (1/2)\n",
    "\n",
    "    p_grid = np.arange(0.0, p.max(), (p.max() - 0)/150)\n",
    "    distr = 4*math.pi* (1/(2*math.pi*mass*k_B*temperature)) ** (1.5) * (p_grid ** 2) * np.exp(-1* (p_grid ** 2) /(2*k_B*mass*temperature))\n",
    "\n",
    "    return distr, p_grid, p"
   ]
  },
  {
   "cell_type": "markdown",
   "metadata": {},
   "source": [
    "Next, we need to visualize a histogram corresponding to the distribution determined during the simulation and compare its form with analytical function. The main.py function visualizes both of these distributions at one figure and then print its typical momenta (*4, *5) (average and most probable) to compare them with each other. "
   ]
  },
  {
   "cell_type": "markdown",
   "metadata": {},
   "source": [
    "(*2, *3) The typical values of average and most probable momenta respectively. To remind, such values are calculated by the following formulas: \n",
    "\n",
    "\\begin{eqnarray}\n",
    "    \\left< p \\right> = \\sqrt{\\frac{8mkT}{\\pi}} \\hspace{3em} p_p = \\sqrt{2mkT}\n",
    "\\end{eqnarray}"
   ]
  },
  {
   "cell_type": "code",
   "execution_count": 8,
   "metadata": {},
   "outputs": [
    {
     "name": "stdout",
     "output_type": "stream",
     "text": [
      "p_sim_av = 2.248e-17 [cm/s]\n",
      "p_theor_average = 2.131e-17 [cm/s]\n"
     ]
    },
    {
     "data": {
      "image/png": "[encoded data removed]",
      "text/plain": [
       "<matplotlib.figure.Figure at 0x7f9405fbdfd0>"
      ]
     },
     "metadata": {},
     "output_type": "display_data"
    }
   ],
   "source": [
    "import os, glob\n",
    "import h5py\n",
    "import numpy as np\n",
    "import matplotlib.pyplot as plt\n",
    "import math\n",
    "from mpl_toolkits.mplot3d import Axes3D\n",
    "\n",
    "def main():\n",
    "    filename = 'maxwell_check_0010000.h5'\n",
    "    h5 = h5py.File(filename, mode=\"r\")\n",
    "    \n",
    "    m = 1.67e-22\n",
    "    T = 7.740e+03\n",
    "    N = 100\n",
    "    k_B = 1.38e-16\n",
    "    distr, p_grid, p = analyt_maxwell_distrib(N, T, m, k_B, h5)                      #(*1)\n",
    "    p_sim_av = np.mean(p)\n",
    "\n",
    "    p_average = (8*m*k_B*T/math.pi) ** (1/2)                                         #(*2)\n",
    "    p_mst_prob = (2*m*k_B*T) ** (1/2)                                                #(*3)\n",
    "    print( \"p_sim_av = {:.3e} [cm/s]\".format( p_sim_av ) )                           #(*4)     \n",
    "    print( \"p_theor_average = {:.3e} [cm/s]\".format( p_average ) )                   #(*5)    \n",
    "\n",
    "    plt.figure()\n",
    "    plt.xlabel('p, [cm/s]')\n",
    "    plt.xlabel('p, [cm/s]')\n",
    "    plt.ylabel(r'$\\rho$ (probability density function) ')\n",
    "    plt.title('Probability density function (PDF)')\n",
    "    plt.ylabel(r'$\\rho$ probability density function')\n",
    "    plt.plot(p_grid,distr,label = 'Theor PDF')\n",
    "    plt.hist(p,15, normed=True)\n",
    "    plt.xlim(0.0, p.max())\n",
    "    plt.legend()\n",
    "    plt.grid(True)\n",
    "    h5.close()\n",
    "    \n",
    "main()"
   ]
  },
  {
   "cell_type": "markdown",
   "metadata": {},
   "source": [
    "If you track changes in the particle distribution as a function of momenta, you will see that over time the resulting distribution approaches to the theoretical distribution. Moreover the typical values of the ion gas have to tend to the theoretical values. It is suggested to compare the obtained values by the simulation with theoretical values (*4,*5)"
   ]
  },
  {
   "cell_type": "code",
   "execution_count": 4,
   "metadata": {},
   "outputs": [],
   "source": []
  },
  {
   "cell_type": "markdown",
   "metadata": {},
   "source": []
  },
  {
   "cell_type": "code",
   "execution_count": null,
   "metadata": {},
   "outputs": [],
   "source": []
  }
 ],
 "metadata": {
  "kernelspec": {
   "display_name": "Python 3",
   "language": "python",
   "name": "python3"
  },
  "language_info": {
   "codemirror_mode": {
    "name": "ipython",
    "version": 3
   },
   "file_extension": ".py",
   "mimetype": "text/x-python",
   "name": "python",
   "nbconvert_exporter": "python",
   "pygments_lexer": "ipython3",
   "version": "3.5.2"
  }
 },
 "nbformat": 4,
 "nbformat_minor": 2
}
